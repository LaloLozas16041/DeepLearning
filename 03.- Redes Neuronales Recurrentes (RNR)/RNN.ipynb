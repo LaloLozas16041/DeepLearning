{
  "cells": [
    {
      "cell_type": "markdown",
      "metadata": {
        "colab_type": "text",
        "id": "t15NNKt-lpv7"
      },
      "source": [
        "# Parte 1 - Preprocesado de los datos\n",
        "\n",
        "# Importación de las librerías"
      ]
    },
    {
      "cell_type": "code",
      "execution_count": 1,
      "metadata": {
        "colab": {},
        "colab_type": "code",
        "id": "7NCdTPCslrel"
      },
      "outputs": [],
      "source": [
        "import numpy as np\n",
        "import pandas as pd\n",
        "import matplotlib.pyplot as plt"
      ]
    },
    {
      "cell_type": "markdown",
      "metadata": {
        "colab_type": "text",
        "id": "7w97ATJzlwcx"
      },
      "source": [
        "# Importar el dataset de entrenamiento"
      ]
    },
    {
      "cell_type": "code",
      "execution_count": 2,
      "metadata": {
        "colab": {},
        "colab_type": "code",
        "id": "In-BOPsflu-s"
      },
      "outputs": [],
      "source": [
        "dataset_train = pd.read_csv(\"Google_Stock_Price_Train.csv\")\n",
        "training_set  = dataset_train.iloc[:, 1:2].values"
      ]
    },
    {
      "cell_type": "markdown",
      "metadata": {
        "colab_type": "text",
        "id": "W5TcdlcrlyZq"
      },
      "source": [
        "# Escalado de características"
      ]
    },
    {
      "cell_type": "code",
      "execution_count": 3,
      "metadata": {
        "colab": {},
        "colab_type": "code",
        "id": "oB6YUNwDl0uE"
      },
      "outputs": [
        {
          "name": "stderr",
          "output_type": "stream",
          "text": [
            "c:\\ProgramData\\Anaconda3\\lib\\site-packages\\scipy\\__init__.py:155: UserWarning: A NumPy version >=1.18.5 and <1.25.0 is required for this version of SciPy (detected version 1.26.3\n",
            "  warnings.warn(f\"A NumPy version >={np_minversion} and <{np_maxversion}\"\n"
          ]
        }
      ],
      "source": [
        "from sklearn.preprocessing import MinMaxScaler\n",
        "sc = MinMaxScaler(feature_range = (0, 1))\n",
        "training_set_scaled = sc.fit_transform(training_set)"
      ]
    },
    {
      "cell_type": "markdown",
      "metadata": {
        "colab_type": "text",
        "id": "bTnKn6ifl2He"
      },
      "source": [
        "# Crear una estructura de datos con 60 timesteps y 1 salida"
      ]
    },
    {
      "cell_type": "code",
      "execution_count": 4,
      "metadata": {
        "colab": {},
        "colab_type": "code",
        "id": "kk8UUw0_lz5S"
      },
      "outputs": [],
      "source": [
        "X_train = []\n",
        "y_train = []\n",
        "for i in range(60, 1258):\n",
        "    X_train.append(training_set_scaled[i-60:i, 0])\n",
        "    y_train.append(training_set_scaled[i, 0])\n",
        "X_train, y_train = np.array(X_train), np.array(y_train)\n"
      ]
    },
    {
      "cell_type": "markdown",
      "metadata": {
        "colab_type": "text",
        "id": "ofUwrSJbl6cO"
      },
      "source": [
        "# Redimensión de los datos"
      ]
    },
    {
      "cell_type": "code",
      "execution_count": 5,
      "metadata": {
        "colab": {},
        "colab_type": "code",
        "id": "17RfTB75l7Bi"
      },
      "outputs": [],
      "source": [
        "X_train = np.reshape(X_train, (X_train.shape[0], X_train.shape[1], 1))"
      ]
    },
    {
      "cell_type": "markdown",
      "metadata": {
        "colab_type": "text",
        "id": "AtczsRskbj2F"
      },
      "source": [
        "# Parte 2 - Construcción de la RNR"
      ]
    },
    {
      "cell_type": "code",
      "execution_count": 6,
      "metadata": {
        "colab": {},
        "colab_type": "code",
        "id": "Td6hF67QnL41"
      },
      "outputs": [],
      "source": [
        "from keras.models import Sequential\n",
        "from keras.layers import Dense, LSTM, Dropout"
      ]
    },
    {
      "cell_type": "code",
      "execution_count": 7,
      "metadata": {
        "colab": {},
        "colab_type": "code",
        "id": "rQL9sTJ9Y_Vc"
      },
      "outputs": [],
      "source": [
        "regressor = Sequential()"
      ]
    },
    {
      "cell_type": "markdown",
      "metadata": {
        "colab_type": "text",
        "id": "tUbAgrrqbpsY"
      },
      "source": [
        "# Añadir la primera capa de LSTM y la regulariación por Dropout"
      ]
    },
    {
      "cell_type": "code",
      "execution_count": 8,
      "metadata": {
        "colab": {},
        "colab_type": "code",
        "id": "2kYdJsjsZCR8"
      },
      "outputs": [],
      "source": [
        "regressor.add(LSTM(units = 50, return_sequences = True, input_shape = (X_train.shape[1], 1) ))\n",
        "regressor.add(Dropout(0.2))"
      ]
    },
    {
      "cell_type": "markdown",
      "metadata": {
        "colab_type": "text",
        "id": "rBFya76KbsKw"
      },
      "source": [
        "# Añadir la segunda capa de LSTM y la regulariación por Dropout"
      ]
    },
    {
      "cell_type": "code",
      "execution_count": 9,
      "metadata": {
        "colab": {},
        "colab_type": "code",
        "id": "jty3bSFYZD98"
      },
      "outputs": [],
      "source": [
        "regressor.add(LSTM(units = 50, return_sequences = True ))\n",
        "regressor.add(Dropout(0.2))"
      ]
    },
    {
      "cell_type": "markdown",
      "metadata": {
        "colab_type": "text",
        "id": "IgJ4s9fSb8bm"
      },
      "source": [
        "# Añadir la tercera capa de LSTM y la regulariación por Dropout"
      ]
    },
    {
      "cell_type": "code",
      "execution_count": 10,
      "metadata": {
        "colab": {},
        "colab_type": "code",
        "id": "mkVuO25YZHtg"
      },
      "outputs": [],
      "source": [
        "regressor.add(LSTM(units = 50, return_sequences = True ))\n",
        "regressor.add(Dropout(0.2))"
      ]
    },
    {
      "cell_type": "markdown",
      "metadata": {
        "colab_type": "text",
        "id": "D8PFVngxmTaT"
      },
      "source": [
        "# Añadir la cuarta capa de LSTM y la regulariación por Dropout\n"
      ]
    },
    {
      "cell_type": "code",
      "execution_count": 11,
      "metadata": {
        "colab": {},
        "colab_type": "code",
        "id": "JWl9_DHxZJZD"
      },
      "outputs": [],
      "source": [
        "regressor.add(LSTM(units = 50))\n",
        "regressor.add(Dropout(0.2))"
      ]
    },
    {
      "cell_type": "markdown",
      "metadata": {
        "colab_type": "text",
        "id": "iliYQ6aFmYov"
      },
      "source": [
        "# Añadir la capa de salida"
      ]
    },
    {
      "cell_type": "code",
      "execution_count": 12,
      "metadata": {
        "colab": {},
        "colab_type": "code",
        "id": "KQnTQSjyZKXs"
      },
      "outputs": [],
      "source": [
        "regressor.add(Dense(units = 1))"
      ]
    },
    {
      "cell_type": "markdown",
      "metadata": {
        "colab_type": "text",
        "id": "p7INHvHmcFdL"
      },
      "source": [
        "# Compilar la RNR\n",
        "# Como va a ser entrenada?"
      ]
    },
    {
      "cell_type": "code",
      "execution_count": 13,
      "metadata": {
        "colab": {},
        "colab_type": "code",
        "id": "Uc7pBop7ZLeN"
      },
      "outputs": [],
      "source": [
        "regressor.compile(optimizer = 'adam', loss = 'mean_squared_error')"
      ]
    },
    {
      "cell_type": "markdown",
      "metadata": {
        "colab_type": "text",
        "id": "hits0FnccMjr"
      },
      "source": [
        "# Ajustar la RNR al conjunto de entrenamiento"
      ]
    },
    {
      "cell_type": "code",
      "execution_count": 14,
      "metadata": {
        "colab": {
          "base_uri": "https://localhost:8080/",
          "height": 1000
        },
        "colab_type": "code",
        "id": "BYgCwVDFZMrU",
        "outputId": "2a9b3579-508f-4d47-ec4d-dddac468bf3c"
      },
      "outputs": [
        {
          "name": "stdout",
          "output_type": "stream",
          "text": [
            "Epoch 1/100\n",
            "38/38 [==============================] - 9s 66ms/step - loss: 0.0446\n",
            "Epoch 2/100\n",
            "38/38 [==============================] - 3s 66ms/step - loss: 0.0069\n",
            "Epoch 3/100\n",
            "38/38 [==============================] - 3s 67ms/step - loss: 0.0055\n",
            "Epoch 4/100\n",
            "38/38 [==============================] - 2s 65ms/step - loss: 0.0056\n",
            "Epoch 5/100\n",
            "38/38 [==============================] - 2s 65ms/step - loss: 0.0055\n",
            "Epoch 6/100\n",
            "38/38 [==============================] - 2s 65ms/step - loss: 0.0052\n",
            "Epoch 7/100\n",
            "38/38 [==============================] - 2s 65ms/step - loss: 0.0046\n",
            "Epoch 8/100\n",
            "38/38 [==============================] - 2s 65ms/step - loss: 0.0046\n",
            "Epoch 9/100\n",
            "38/38 [==============================] - 2s 65ms/step - loss: 0.0047\n",
            "Epoch 10/100\n",
            "38/38 [==============================] - 3s 67ms/step - loss: 0.0042\n",
            "Epoch 11/100\n",
            "38/38 [==============================] - 2s 65ms/step - loss: 0.0042\n",
            "Epoch 12/100\n",
            "38/38 [==============================] - 2s 65ms/step - loss: 0.0040\n",
            "Epoch 13/100\n",
            "38/38 [==============================] - 3s 66ms/step - loss: 0.0044\n",
            "Epoch 14/100\n",
            "38/38 [==============================] - 3s 70ms/step - loss: 0.0044\n",
            "Epoch 15/100\n",
            "38/38 [==============================] - 3s 70ms/step - loss: 0.0045\n",
            "Epoch 16/100\n",
            "38/38 [==============================] - 3s 71ms/step - loss: 0.0038\n",
            "Epoch 17/100\n",
            "38/38 [==============================] - 3s 71ms/step - loss: 0.0036\n",
            "Epoch 18/100\n",
            "38/38 [==============================] - 3s 70ms/step - loss: 0.0039\n",
            "Epoch 19/100\n",
            "38/38 [==============================] - 3s 70ms/step - loss: 0.0039\n",
            "Epoch 20/100\n",
            "38/38 [==============================] - 3s 69ms/step - loss: 0.0036\n",
            "Epoch 21/100\n",
            "38/38 [==============================] - 3s 73ms/step - loss: 0.0034\n",
            "Epoch 22/100\n",
            "38/38 [==============================] - 3s 70ms/step - loss: 0.0034\n",
            "Epoch 23/100\n",
            "38/38 [==============================] - 3s 70ms/step - loss: 0.0036\n",
            "Epoch 24/100\n",
            "38/38 [==============================] - 3s 70ms/step - loss: 0.0043\n",
            "Epoch 25/100\n",
            "38/38 [==============================] - 3s 70ms/step - loss: 0.0032\n",
            "Epoch 26/100\n",
            "38/38 [==============================] - 3s 72ms/step - loss: 0.0038\n",
            "Epoch 27/100\n",
            "38/38 [==============================] - 3s 75ms/step - loss: 0.0034\n",
            "Epoch 28/100\n",
            "38/38 [==============================] - 3s 72ms/step - loss: 0.0042\n",
            "Epoch 29/100\n",
            "38/38 [==============================] - 3s 72ms/step - loss: 0.0032\n",
            "Epoch 30/100\n",
            "38/38 [==============================] - 3s 72ms/step - loss: 0.0029\n",
            "Epoch 31/100\n",
            "38/38 [==============================] - 3s 74ms/step - loss: 0.0030\n",
            "Epoch 32/100\n",
            "38/38 [==============================] - 3s 76ms/step - loss: 0.0030\n",
            "Epoch 33/100\n",
            "38/38 [==============================] - 3s 76ms/step - loss: 0.0026\n",
            "Epoch 34/100\n",
            "38/38 [==============================] - 3s 75ms/step - loss: 0.0026\n",
            "Epoch 35/100\n",
            "38/38 [==============================] - 3s 76ms/step - loss: 0.0027\n",
            "Epoch 36/100\n",
            "38/38 [==============================] - 3s 73ms/step - loss: 0.0029\n",
            "Epoch 37/100\n",
            "38/38 [==============================] - 3s 72ms/step - loss: 0.0029\n",
            "Epoch 38/100\n",
            "38/38 [==============================] - 3s 72ms/step - loss: 0.0029\n",
            "Epoch 39/100\n",
            "38/38 [==============================] - 3s 76ms/step - loss: 0.0027\n",
            "Epoch 40/100\n",
            "38/38 [==============================] - 3s 68ms/step - loss: 0.0028\n",
            "Epoch 41/100\n",
            "38/38 [==============================] - 3s 68ms/step - loss: 0.0026\n",
            "Epoch 42/100\n",
            "38/38 [==============================] - 3s 70ms/step - loss: 0.0025\n",
            "Epoch 43/100\n",
            "38/38 [==============================] - 3s 67ms/step - loss: 0.0023\n",
            "Epoch 44/100\n",
            "38/38 [==============================] - 3s 69ms/step - loss: 0.0025\n",
            "Epoch 45/100\n",
            "38/38 [==============================] - 3s 78ms/step - loss: 0.0024\n",
            "Epoch 46/100\n",
            "38/38 [==============================] - 3s 66ms/step - loss: 0.0023\n",
            "Epoch 47/100\n",
            "38/38 [==============================] - 3s 68ms/step - loss: 0.0024\n",
            "Epoch 48/100\n",
            "38/38 [==============================] - 3s 70ms/step - loss: 0.0026\n",
            "Epoch 49/100\n",
            "38/38 [==============================] - 3s 71ms/step - loss: 0.0024\n",
            "Epoch 50/100\n",
            "38/38 [==============================] - 3s 70ms/step - loss: 0.0023\n",
            "Epoch 51/100\n",
            "38/38 [==============================] - 3s 69ms/step - loss: 0.0024\n",
            "Epoch 52/100\n",
            "38/38 [==============================] - 3s 69ms/step - loss: 0.0026\n",
            "Epoch 53/100\n",
            "38/38 [==============================] - 2s 66ms/step - loss: 0.0021\n",
            "Epoch 54/100\n",
            "38/38 [==============================] - 3s 69ms/step - loss: 0.0024\n",
            "Epoch 55/100\n",
            "38/38 [==============================] - 3s 70ms/step - loss: 0.0021\n",
            "Epoch 56/100\n",
            "38/38 [==============================] - 3s 73ms/step - loss: 0.0022\n",
            "Epoch 57/100\n",
            "38/38 [==============================] - 3s 82ms/step - loss: 0.0022\n",
            "Epoch 58/100\n",
            "38/38 [==============================] - 3s 70ms/step - loss: 0.0019\n",
            "Epoch 59/100\n",
            "38/38 [==============================] - 3s 79ms/step - loss: 0.0021\n",
            "Epoch 60/100\n",
            "38/38 [==============================] - 3s 73ms/step - loss: 0.0021\n",
            "Epoch 61/100\n",
            "38/38 [==============================] - 3s 79ms/step - loss: 0.0019\n",
            "Epoch 62/100\n",
            "38/38 [==============================] - 2s 65ms/step - loss: 0.0020\n",
            "Epoch 63/100\n",
            "38/38 [==============================] - 2s 66ms/step - loss: 0.0021\n",
            "Epoch 64/100\n",
            "38/38 [==============================] - 2s 65ms/step - loss: 0.0022\n",
            "Epoch 65/100\n",
            "38/38 [==============================] - 2s 65ms/step - loss: 0.0019\n",
            "Epoch 66/100\n",
            "38/38 [==============================] - 3s 68ms/step - loss: 0.0023\n",
            "Epoch 67/100\n",
            "38/38 [==============================] - 3s 78ms/step - loss: 0.0022\n",
            "Epoch 68/100\n",
            "38/38 [==============================] - 4s 100ms/step - loss: 0.0023\n",
            "Epoch 69/100\n",
            "38/38 [==============================] - 3s 91ms/step - loss: 0.0020\n",
            "Epoch 70/100\n",
            "38/38 [==============================] - 3s 84ms/step - loss: 0.0020\n",
            "Epoch 71/100\n",
            "38/38 [==============================] - 3s 68ms/step - loss: 0.0019\n",
            "Epoch 72/100\n",
            "38/38 [==============================] - 2s 64ms/step - loss: 0.0018\n",
            "Epoch 73/100\n",
            "38/38 [==============================] - 2s 64ms/step - loss: 0.0017\n",
            "Epoch 74/100\n",
            "38/38 [==============================] - 2s 64ms/step - loss: 0.0016\n",
            "Epoch 75/100\n",
            "38/38 [==============================] - 3s 66ms/step - loss: 0.0017\n",
            "Epoch 76/100\n",
            "38/38 [==============================] - 2s 64ms/step - loss: 0.0018\n",
            "Epoch 77/100\n",
            "38/38 [==============================] - 2s 64ms/step - loss: 0.0017\n",
            "Epoch 78/100\n",
            "38/38 [==============================] - 2s 65ms/step - loss: 0.0017\n",
            "Epoch 79/100\n",
            "38/38 [==============================] - 3s 68ms/step - loss: 0.0018\n",
            "Epoch 80/100\n",
            "38/38 [==============================] - 2s 64ms/step - loss: 0.0016\n",
            "Epoch 81/100\n",
            "38/38 [==============================] - 2s 65ms/step - loss: 0.0015\n",
            "Epoch 82/100\n",
            "38/38 [==============================] - 2s 63ms/step - loss: 0.0016\n",
            "Epoch 83/100\n",
            "38/38 [==============================] - 3s 68ms/step - loss: 0.0017\n",
            "Epoch 84/100\n",
            "38/38 [==============================] - 3s 69ms/step - loss: 0.0016\n",
            "Epoch 85/100\n",
            "38/38 [==============================] - 2s 64ms/step - loss: 0.0017\n",
            "Epoch 86/100\n",
            "38/38 [==============================] - 2s 63ms/step - loss: 0.0015\n",
            "Epoch 87/100\n",
            "38/38 [==============================] - 2s 64ms/step - loss: 0.0015\n",
            "Epoch 88/100\n",
            "38/38 [==============================] - 3s 66ms/step - loss: 0.0015\n",
            "Epoch 89/100\n",
            "38/38 [==============================] - 2s 63ms/step - loss: 0.0016\n",
            "Epoch 90/100\n",
            "38/38 [==============================] - 2s 63ms/step - loss: 0.0017\n",
            "Epoch 91/100\n",
            "38/38 [==============================] - 2s 63ms/step - loss: 0.0016\n",
            "Epoch 92/100\n",
            "38/38 [==============================] - 2s 64ms/step - loss: 0.0015\n",
            "Epoch 93/100\n",
            "38/38 [==============================] - 2s 64ms/step - loss: 0.0014\n",
            "Epoch 94/100\n",
            "38/38 [==============================] - 2s 65ms/step - loss: 0.0014\n",
            "Epoch 95/100\n",
            "38/38 [==============================] - 2s 64ms/step - loss: 0.0015\n",
            "Epoch 96/100\n",
            "38/38 [==============================] - 2s 64ms/step - loss: 0.0015\n",
            "Epoch 97/100\n",
            "38/38 [==============================] - 2s 64ms/step - loss: 0.0014\n",
            "Epoch 98/100\n",
            "38/38 [==============================] - 2s 63ms/step - loss: 0.0015\n",
            "Epoch 99/100\n",
            "38/38 [==============================] - 2s 63ms/step - loss: 0.0014\n",
            "Epoch 100/100\n",
            "38/38 [==============================] - 2s 63ms/step - loss: 0.0015\n"
          ]
        },
        {
          "data": {
            "text/plain": [
              "<keras.src.callbacks.History at 0x21a492bd5b0>"
            ]
          },
          "execution_count": 14,
          "metadata": {},
          "output_type": "execute_result"
        }
      ],
      "source": [
        "regressor.fit(X_train, y_train, epochs = 100, batch_size = 32)"
      ]
    },
    {
      "cell_type": "markdown",
      "metadata": {
        "colab_type": "text",
        "id": "KwHuYDWfcPEZ"
      },
      "source": [
        "# Parte 3 - Ajustar las predicciones y visualizar los resultados"
      ]
    },
    {
      "cell_type": "markdown",
      "metadata": {
        "colab_type": "text",
        "id": "bu5TY8-ampml"
      },
      "source": [
        "# Obtener el valor de las acciones reales  de Enero de 2017"
      ]
    },
    {
      "cell_type": "code",
      "execution_count": 15,
      "metadata": {
        "colab": {},
        "colab_type": "code",
        "id": "Z7k7KG9SZOjL"
      },
      "outputs": [],
      "source": [
        "dataset_test = pd.read_csv('Google_Stock_Price_Test.csv')\n",
        "real_stock_price = dataset_test.iloc[:, 1:2].values\n"
      ]
    },
    {
      "cell_type": "markdown",
      "metadata": {
        "colab_type": "text",
        "id": "1_6dWXuzmuHS"
      },
      "source": [
        "# Obtener la predicción de la acción con la RNR para Enero de 2017"
      ]
    },
    {
      "cell_type": "code",
      "execution_count": 16,
      "metadata": {
        "colab": {
          "base_uri": "https://localhost:8080/",
          "height": 295
        },
        "colab_type": "code",
        "id": "sbDeaSRQmveW",
        "outputId": "e896a13b-9a05-4260-da22-3d254c491655"
      },
      "outputs": [
        {
          "name": "stdout",
          "output_type": "stream",
          "text": [
            "1/1 [==============================] - 1s 1s/step\n"
          ]
        },
        {
          "data": {
            "image/png": "[encoded data removed]",
            "text/plain": [
              "<Figure size 640x480 with 1 Axes>"
            ]
          },
          "metadata": {},
          "output_type": "display_data"
        }
      ],
      "source": [
        "dataset_total = pd.concat((dataset_train['Open'], dataset_test['Open']), axis = 0)\n",
        "inputs = dataset_total[len(dataset_total) - len(dataset_test) - 60:].values\n",
        "inputs = inputs.reshape(-1,1)\n",
        "inputs = sc.transform(inputs)\n",
        "X_test = []\n",
        "for i in range(60, 80):\n",
        "    X_test.append(inputs[i-60:i, 0])\n",
        "X_test = np.array(X_test)\n",
        "X_test = np.reshape(X_test, (X_test.shape[0], X_test.shape[1], 1))\n",
        "\n",
        "predicted_stock_price = regressor.predict(X_test)\n",
        "predicted_stock_price = sc.inverse_transform(predicted_stock_price)\n",
        "\n",
        "# Visualizar los Resultados\n",
        "plt.plot(real_stock_price, color = 'red', label = 'Precio Real de la Accion de Google')\n",
        "plt.plot(predicted_stock_price, color = 'blue', label = 'Precio Predicho de la Accion de Google')\n",
        "plt.title(\"Prediccion con una RNR del valor de las acciones de Google\")\n",
        "plt.xlabel(\"Fecha\")\n",
        "plt.ylabel(\"Precio de la accion de Google\")\n",
        "plt.legend()\n",
        "plt.show()\n",
        "\n"
      ]
    }
  ],
  "metadata": {
    "accelerator": "GPU",
    "colab": {
      "collapsed_sections": [],
      "name": "RNN.ipynb",
      "provenance": []
    },
    "kernelspec": {
      "display_name": "Python 3",
      "name": "python3"
    },
    "language_info": {
      "codemirror_mode": {
        "name": "ipython",
        "version": 3
      },
      "file_extension": ".py",
      "mimetype": "text/x-python",
      "name": "python",
      "nbconvert_exporter": "python",
      "pygments_lexer": "ipython3",
      "version": "3.9.13"
    }
  },
  "nbformat": 4,
  "nbformat_minor": 0
}
