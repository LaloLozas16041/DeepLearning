{
  "cells": [
    {
      "cell_type": "markdown",
      "metadata": {
        "colab_type": "text",
        "id": "ARJVTOSbuWCa"
      },
      "source": [
        "#Máquinas de Boltzmann Restringidas"
      ]
    },
    {
      "cell_type": "markdown",
      "metadata": {
        "colab_type": "text",
        "id": "j6YXqpKUvDuo"
      },
      "source": [
        "# Instalamos pytorch"
      ]
    },
    {
      "cell_type": "code",
      "execution_count": 5,
      "metadata": {
        "colab": {},
        "colab_type": "code",
        "id": "2wGyGxkGucCr"
      },
      "outputs": [
        {
          "name": "stdout",
          "output_type": "stream",
          "text": [
            "Defaulting to user installation because normal site-packages is not writeableNote: you may need to restart the kernel to use updated packages.\n",
            "\n",
            "Looking in links: https://download.pytorch.org/whl/torch_stable.html\n"
          ]
        },
        {
          "name": "stderr",
          "output_type": "stream",
          "text": [
            "WARNING: Ignoring invalid distribution -ensorflow-intel (c:\\users\\jose.lozas\\appdata\\roaming\\python\\python39\\site-packages)\n",
            "WARNING: Ignoring invalid distribution -ensorflow-intel (c:\\users\\jose.lozas\\appdata\\roaming\\python\\python39\\site-packages)\n",
            "ERROR: Could not find a version that satisfies the requirement torch===1.6.0 (from versions: 1.7.1, 1.7.1+cpu, 1.7.1+cu101, 1.7.1+cu110, 1.8.0, 1.8.0+cpu, 1.8.0+cu101, 1.8.0+cu111, 1.8.1, 1.8.1+cpu, 1.8.1+cu101, 1.8.1+cu102, 1.8.1+cu111, 1.9.0, 1.9.0+cpu, 1.9.0+cu102, 1.9.0+cu111, 1.9.1, 1.9.1+cpu, 1.9.1+cu102, 1.9.1+cu111, 1.10.0, 1.10.0+cpu, 1.10.0+cu102, 1.10.0+cu111, 1.10.0+cu113, 1.10.1, 1.10.1+cpu, 1.10.1+cu102, 1.10.1+cu111, 1.10.1+cu113, 1.10.2, 1.10.2+cpu, 1.10.2+cu102, 1.10.2+cu111, 1.10.2+cu113, 1.11.0, 1.11.0+cpu, 1.11.0+cu113, 1.11.0+cu115, 1.12.0, 1.12.0+cpu, 1.12.0+cu113, 1.12.0+cu116, 1.12.1, 1.12.1+cpu, 1.12.1+cu113, 1.12.1+cu116, 1.13.0, 1.13.0+cpu, 1.13.0+cu116, 1.13.0+cu117, 1.13.1, 1.13.1+cpu, 1.13.1+cu116, 1.13.1+cu117, 2.0.0, 2.0.0+cpu, 2.0.0+cu117, 2.0.0+cu118, 2.0.1, 2.0.1+cpu, 2.0.1+cu117, 2.0.1+cu118, 2.1.0, 2.1.0+cpu, 2.1.0+cu118, 2.1.0+cu121, 2.1.1, 2.1.1+cpu, 2.1.1+cu118, 2.1.1+cu121, 2.1.2, 2.1.2+cpu, 2.1.2+cu118, 2.1.2+cu121)\n",
            "ERROR: No matching distribution found for torch===1.6.0\n",
            "WARNING: Ignoring invalid distribution -ensorflow-intel (c:\\users\\jose.lozas\\appdata\\roaming\\python\\python39\\site-packages)\n",
            "WARNING: Ignoring invalid distribution -ensorflow-intel (c:\\users\\jose.lozas\\appdata\\roaming\\python\\python39\\site-packages)\n",
            "WARNING: Ignoring invalid distribution -ensorflow-intel (c:\\users\\jose.lozas\\appdata\\roaming\\python\\python39\\site-packages)\n"
          ]
        }
      ],
      "source": [
        "pip install torch===1.6.0 torchvision===0.7.0 -f https://download.pytorch.org/whl/torch_stable.html"
      ]
    },
    {
      "cell_type": "code",
      "execution_count": 8,
      "metadata": {},
      "outputs": [
        {
          "name": "stdout",
          "output_type": "stream",
          "text": [
            "Defaulting to user installation because normal site-packages is not writeable\n",
            "Collecting torch\n",
            "  Downloading torch-2.1.2-cp39-cp39-win_amd64.whl (192.2 MB)\n",
            "     -------------------------------------- 192.2/192.2 MB 3.7 MB/s eta 0:00:00\n",
            "Requirement already satisfied: jinja2 in c:\\programdata\\anaconda3\\lib\\site-packages (from torch) (2.11.3)\n",
            "Requirement already satisfied: networkx in c:\\programdata\\anaconda3\\lib\\site-packages (from torch) (2.8.4)\n",
            "Requirement already satisfied: fsspec in c:\\users\\jose.lozas\\appdata\\roaming\\python\\python39\\site-packages (from torch) (2023.10.0)\n",
            "Requirement already satisfied: typing-extensions in c:\\users\\jose.lozas\\appdata\\roaming\\python\\python39\\site-packages (from torch) (4.8.0)\n",
            "Requirement already satisfied: sympy in c:\\programdata\\anaconda3\\lib\\site-packages (from torch) (1.10.1)\n",
            "Requirement already satisfied: filelock in c:\\programdata\\anaconda3\\lib\\site-packages (from torch) (3.6.0)\n",
            "Requirement already satisfied: MarkupSafe>=0.23 in c:\\programdata\\anaconda3\\lib\\site-packages (from jinja2->torch) (2.0.1)\n",
            "Requirement already satisfied: mpmath>=0.19 in c:\\programdata\\anaconda3\\lib\\site-packages (from sympy->torch) (1.2.1)\n",
            "Installing collected packages: torch\n",
            "Successfully installed torch-2.1.2\n",
            "Note: you may need to restart the kernel to use updated packages.\n"
          ]
        },
        {
          "name": "stderr",
          "output_type": "stream",
          "text": [
            "WARNING: Ignoring invalid distribution -ensorflow-intel (c:\\users\\jose.lozas\\appdata\\roaming\\python\\python39\\site-packages)\n",
            "WARNING: Ignoring invalid distribution -ensorflow-intel (c:\\users\\jose.lozas\\appdata\\roaming\\python\\python39\\site-packages)\n",
            "WARNING: Ignoring invalid distribution -ensorflow-intel (c:\\users\\jose.lozas\\appdata\\roaming\\python\\python39\\site-packages)\n",
            "  WARNING: The scripts convert-caffe2-to-onnx.exe, convert-onnx-to-caffe2.exe and torchrun.exe are installed in 'C:\\Users\\jose.lozas\\AppData\\Roaming\\Python\\Python39\\Scripts' which is not on PATH.\n",
            "  Consider adding this directory to PATH or, if you prefer to suppress this warning, use --no-warn-script-location.\n",
            "WARNING: Ignoring invalid distribution -ensorflow-intel (c:\\users\\jose.lozas\\appdata\\roaming\\python\\python39\\site-packages)\n",
            "WARNING: Ignoring invalid distribution -ensorflow-intel (c:\\users\\jose.lozas\\appdata\\roaming\\python\\python39\\site-packages)\n",
            "WARNING: Ignoring invalid distribution -ensorflow-intel (c:\\users\\jose.lozas\\appdata\\roaming\\python\\python39\\site-packages)\n",
            "WARNING: Ignoring invalid distribution -ensorflow-intel (c:\\users\\jose.lozas\\appdata\\roaming\\python\\python39\\site-packages)\n"
          ]
        }
      ],
      "source": [
        "pip install torch"
      ]
    },
    {
      "cell_type": "code",
      "execution_count": 9,
      "metadata": {
        "colab": {},
        "colab_type": "code",
        "id": "yLnJi3RNuZF8"
      },
      "outputs": [],
      "source": [
        "# Importar las librerías\n",
        "import numpy as np\n",
        "import pandas as pd\n",
        "import torch\n",
        "import torch.nn as nn\n",
        "import torch.nn.parallel\n",
        "import torch.optim as optim\n",
        "import torch.utils.data\n",
        "from torch.autograd import Variable"
      ]
    },
    {
      "cell_type": "markdown",
      "metadata": {
        "colab_type": "text",
        "id": "UL5sXo36uwOt"
      },
      "source": [
        "# Importar el dataset"
      ]
    },
    {
      "cell_type": "code",
      "execution_count": 11,
      "metadata": {
        "colab": {},
        "colab_type": "code",
        "id": "bb-oWK50uyV4"
      },
      "outputs": [],
      "source": [
        "movies = pd.read_csv(\"ml-1m/movies.dat\", sep = '::', header = None, engine = 'python', encoding = 'latin-1')\n",
        "users  = pd.read_csv(\"ml-1m/users.dat\", sep = '::', header = None, engine = 'python', encoding = 'latin-1')\n",
        "ratings  = pd.read_csv(\"ml-1m/ratings.dat\", sep = '::', header = None, engine = 'python', encoding = 'latin-1')\n"
      ]
    },
    {
      "cell_type": "markdown",
      "metadata": {
        "colab_type": "text",
        "id": "A7MOlL4xvzPF"
      },
      "source": [
        "# Preparar el conjunto de entrenamiento y elconjunto de testing"
      ]
    },
    {
      "cell_type": "code",
      "execution_count": 13,
      "metadata": {
        "colab": {},
        "colab_type": "code",
        "id": "frkm18WQv0tf"
      },
      "outputs": [],
      "source": [
        "training_set = pd.read_csv(\"ml-100k/u1.base\", sep = \"\\t\", header = None)\n",
        "training_set = np.array(training_set, dtype = \"int\")\n",
        "test_set = pd.read_csv(\"ml-100k/u1.test\", sep = \"\\t\", header = None)\n",
        "test_set = np.array(test_set, dtype = \"int\")"
      ]
    },
    {
      "cell_type": "markdown",
      "metadata": {
        "colab_type": "text",
        "id": "-IeQfD-bwE8K"
      },
      "source": [
        "# Obtener el número de usuarios y de películas"
      ]
    },
    {
      "cell_type": "code",
      "execution_count": 14,
      "metadata": {
        "colab": {},
        "colab_type": "code",
        "id": "_9SXaa1ZwGKa"
      },
      "outputs": [],
      "source": [
        "nb_users = int(max(max(training_set[:, 0]), max(test_set[:,0])))\n",
        "nb_movies = int(max(max(training_set[:, 1]), max(test_set[:, 1])))"
      ]
    },
    {
      "cell_type": "markdown",
      "metadata": {
        "colab_type": "text",
        "id": "QixyuDRHxdDD"
      },
      "source": [
        "# Convertir los datos en un array X[u,i] con usuarios u en fila y películas i en columna"
      ]
    },
    {
      "cell_type": "code",
      "execution_count": 15,
      "metadata": {
        "colab": {},
        "colab_type": "code",
        "id": "SHHL6CaJxkMM"
      },
      "outputs": [],
      "source": [
        "def convert(data):\n",
        "    new_data = []\n",
        "    for id_user in range(1, nb_users+1):\n",
        "        id_movies = data[:, 1][data[:, 0] == id_user]\n",
        "        id_ratings = data[:, 2][data[:, 0] == id_user]\n",
        "        ratings = np.zeros(nb_movies)\n",
        "        ratings[id_movies-1] = id_ratings\n",
        "        new_data.append(list(ratings))\n",
        "    return new_data"
      ]
    },
    {
      "cell_type": "code",
      "execution_count": 16,
      "metadata": {
        "colab": {},
        "colab_type": "code",
        "id": "cLuyXa0Zxm9o"
      },
      "outputs": [],
      "source": [
        "training_set = convert(training_set)\n",
        "test_set = convert(test_set)"
      ]
    },
    {
      "cell_type": "markdown",
      "metadata": {
        "colab_type": "text",
        "id": "0nIyS995x0PE"
      },
      "source": [
        "\n",
        "# Convertir los datos a tensores de Torch"
      ]
    },
    {
      "cell_type": "code",
      "execution_count": 17,
      "metadata": {
        "colab": {},
        "colab_type": "code",
        "id": "2JWlCORox0uf"
      },
      "outputs": [],
      "source": [
        "training_set = torch.FloatTensor(training_set)\n",
        "test_set = torch.FloatTensor(test_set)"
      ]
    },
    {
      "cell_type": "markdown",
      "metadata": {
        "colab_type": "text",
        "id": "zeleljVhx3mx"
      },
      "source": [
        "# Convertir las valoraciones a valores binarios 1 (Me gusta) o 0 (No me gusta)"
      ]
    },
    {
      "cell_type": "code",
      "execution_count": 18,
      "metadata": {
        "colab": {},
        "colab_type": "code",
        "id": "vceBGxIVx5Qu"
      },
      "outputs": [],
      "source": [
        "training_set[training_set == 0] = -1\n",
        "training_set[training_set == 1] = 0\n",
        "training_set[training_set == 2] = 0\n",
        "training_set[training_set >= 3] = 1"
      ]
    },
    {
      "cell_type": "code",
      "execution_count": 19,
      "metadata": {
        "colab": {},
        "colab_type": "code",
        "id": "1BeI34Q_x8o4"
      },
      "outputs": [],
      "source": [
        "test_set[test_set == 0] = -1\n",
        "test_set[test_set == 1] = 0\n",
        "test_set[test_set == 2] = 0\n",
        "test_set[test_set >= 3] = 1"
      ]
    },
    {
      "cell_type": "markdown",
      "metadata": {
        "colab_type": "text",
        "id": "alN1pOH1x_Az"
      },
      "source": [
        "# Crear la arquitectura de la Red Neuronal (Modelo Probabilistico Gráfico)"
      ]
    },
    {
      "cell_type": "code",
      "execution_count": 20,
      "metadata": {
        "colab": {},
        "colab_type": "code",
        "id": "6WPiBsmwx_h-"
      },
      "outputs": [],
      "source": [
        "class RBM():\n",
        "    def __init__(self, nv, nh):\n",
        "        self.W = torch.randn(nh, nv)\n",
        "        self.a = torch.randn(1, nh)\n",
        "        self.b = torch.randn(1, nv)\n",
        "    def sample_h(self, x):           #x = mini_batch_size x nv\n",
        "        wx = torch.mm(x, self.W.t()) #mini_batch_size x nh\n",
        "        activation = wx + self.a.expand_as(wx)\n",
        "        p_h_given_v = torch.sigmoid(activation)\n",
        "        return p_h_given_v, torch.bernoulli(p_h_given_v)\n",
        "    def sample_v(self, y):           #y = mini_batch_size x nh\n",
        "        wy = torch.mm(y, self.W) #mini_batch_size x nv\n",
        "        activation = wy + self.b.expand_as(wy)\n",
        "        p_v_given_h = torch.sigmoid(activation)\n",
        "        return p_v_given_h, torch.bernoulli(p_v_given_h)   \n",
        "    def train(self, v0, vk, ph0, phk):\n",
        "        self.W += (torch.mm(v0.t(), ph0) - torch.mm(vk.t(), phk)).t()\n",
        "        self.b += torch.sum((v0 - vk), 0)\n",
        "        self.a += torch.sum((ph0 - phk), 0)"
      ]
    },
    {
      "cell_type": "code",
      "execution_count": 21,
      "metadata": {
        "colab": {},
        "colab_type": "code",
        "id": "godGaYh9x__c"
      },
      "outputs": [],
      "source": [
        "nv = len(training_set[0])\n",
        "nh = 100\n",
        "batch_size = 100\n",
        "\n",
        "rbm = RBM(nv, nh)"
      ]
    },
    {
      "cell_type": "markdown",
      "metadata": {
        "colab_type": "text",
        "id": "eTXM23qRyHhu"
      },
      "source": [
        "# Entrenar la RBM\n"
      ]
    },
    {
      "cell_type": "code",
      "execution_count": 22,
      "metadata": {
        "colab": {
          "base_uri": "https://localhost:8080/",
          "height": 187
        },
        "colab_type": "code",
        "id": "4mKKUQs5yExt",
        "outputId": "95603e87-f89f-4d53-fe9c-1e133e5610bf"
      },
      "outputs": [
        {
          "name": "stdout",
          "output_type": "stream",
          "text": [
            "Epoch: 1, Loss: tensor(0.3298)\n",
            "Epoch: 2, Loss: tensor(0.2499)\n",
            "Epoch: 3, Loss: tensor(0.2480)\n",
            "Epoch: 4, Loss: tensor(0.2500)\n",
            "Epoch: 5, Loss: tensor(0.2446)\n",
            "Epoch: 6, Loss: tensor(0.2520)\n",
            "Epoch: 7, Loss: tensor(0.2463)\n",
            "Epoch: 8, Loss: tensor(0.2444)\n",
            "Epoch: 9, Loss: tensor(0.2465)\n",
            "Epoch: 10, Loss: tensor(0.2465)\n"
          ]
        }
      ],
      "source": [
        "nb_epoch = 10\n",
        "for epoch in range(1, nb_epoch+1):\n",
        "    training_loss = 0\n",
        "    s = 0.\n",
        "    for id_user in range(0, nb_users - batch_size, batch_size):\n",
        "        vk = training_set[id_user:id_user+batch_size]\n",
        "        v0 = training_set[id_user:id_user+batch_size]\n",
        "        ph0,_ = rbm.sample_h(v0)\n",
        "        for k in range(10):\n",
        "            _,hk = rbm.sample_h(vk)\n",
        "            _,vk = rbm.sample_v(hk)\n",
        "            vk[v0 < 0] = v0[v0 < 0]\n",
        "        phk,_ = rbm.sample_h(vk)\n",
        "        rbm.train(v0, vk, ph0, phk)\n",
        "        training_loss += torch.mean(torch.abs(v0[v0>=0] - vk[v0>=0]))\n",
        "        s += 1.\n",
        "    print(\"Epoch: \"+str(epoch)+\", Loss: \"+str(training_loss/s))"
      ]
    },
    {
      "cell_type": "markdown",
      "metadata": {
        "colab_type": "text",
        "id": "gUbXMjpsyMJg"
      },
      "source": [
        "# Testear la RBM"
      ]
    },
    {
      "cell_type": "code",
      "execution_count": 23,
      "metadata": {
        "colab": {
          "base_uri": "https://localhost:8080/",
          "height": 1000
        },
        "colab_type": "code",
        "id": "lPdWRxtLyKV2",
        "outputId": "8fac3d08-0f8e-412c-dc5d-8c8b12d2dd0b"
      },
      "outputs": [
        {
          "name": "stdout",
          "output_type": "stream",
          "text": [
            "Testing Loss: tensor(0.2555)\n",
            "Testing Loss: tensor(0.2868)\n",
            "Testing Loss: tensor(0.2938)\n",
            "Testing Loss: tensor(0.2703)\n",
            "Testing Loss: tensor(0.2853)\n",
            "Testing Loss: tensor(0.2691)\n",
            "Testing Loss: tensor(0.2623)\n",
            "Testing Loss: tensor(0.2510)\n",
            "Testing Loss: tensor(0.2342)\n",
            "Testing Loss: tensor(0.2253)\n",
            "Testing Loss: tensor(0.2311)\n",
            "Testing Loss: tensor(0.2215)\n",
            "Testing Loss: tensor(0.2290)\n",
            "Testing Loss: tensor(0.2227)\n",
            "Testing Loss: tensor(0.2396)\n",
            "Testing Loss: tensor(0.2370)\n",
            "Testing Loss: tensor(0.2426)\n",
            "Testing Loss: tensor(0.2334)\n",
            "Testing Loss: tensor(0.2369)\n",
            "Testing Loss: tensor(0.2387)\n",
            "Testing Loss: tensor(0.2460)\n",
            "Testing Loss: tensor(0.2482)\n",
            "Testing Loss: tensor(0.2443)\n",
            "Testing Loss: tensor(0.2434)\n",
            "Testing Loss: tensor(0.2380)\n",
            "Testing Loss: tensor(0.2391)\n",
            "Testing Loss: tensor(0.2451)\n",
            "Testing Loss: tensor(0.2417)\n",
            "Testing Loss: tensor(0.2455)\n",
            "Testing Loss: tensor(0.2522)\n",
            "Testing Loss: tensor(0.2515)\n",
            "Testing Loss: tensor(0.2518)\n",
            "Testing Loss: tensor(0.2472)\n",
            "Testing Loss: tensor(0.2429)\n",
            "Testing Loss: tensor(0.2502)\n",
            "Testing Loss: tensor(0.2509)\n",
            "Testing Loss: tensor(0.2454)\n",
            "Testing Loss: tensor(0.2499)\n",
            "Testing Loss: tensor(0.2492)\n",
            "Testing Loss: tensor(0.2525)\n",
            "Testing Loss: tensor(0.2522)\n",
            "Testing Loss: tensor(0.2510)\n",
            "Testing Loss: tensor(0.2505)\n",
            "Testing Loss: tensor(0.2508)\n",
            "Testing Loss: tensor(0.2511)\n",
            "Testing Loss: tensor(0.2470)\n",
            "Testing Loss: tensor(0.2441)\n",
            "Testing Loss: tensor(0.2416)\n",
            "Testing Loss: tensor(0.2444)\n",
            "Testing Loss: tensor(0.2449)\n",
            "Testing Loss: tensor(0.2429)\n",
            "Testing Loss: tensor(0.2410)\n",
            "Testing Loss: tensor(0.2412)\n",
            "Testing Loss: tensor(0.2410)\n",
            "Testing Loss: tensor(0.2465)\n",
            "Testing Loss: tensor(0.2466)\n",
            "Testing Loss: tensor(0.2490)\n",
            "Testing Loss: tensor(0.2475)\n",
            "Testing Loss: tensor(0.2479)\n",
            "Testing Loss: tensor(0.2458)\n",
            "Testing Loss: tensor(0.2473)\n",
            "Testing Loss: tensor(0.2492)\n",
            "Testing Loss: tensor(0.2495)\n",
            "Testing Loss: tensor(0.2483)\n",
            "Testing Loss: tensor(0.2469)\n",
            "Testing Loss: tensor(0.2467)\n",
            "Testing Loss: tensor(0.2464)\n",
            "Testing Loss: tensor(0.2455)\n",
            "Testing Loss: tensor(0.2435)\n",
            "Testing Loss: tensor(0.2435)\n",
            "Testing Loss: tensor(0.2436)\n",
            "Testing Loss: tensor(0.2417)\n",
            "Testing Loss: tensor(0.2410)\n",
            "Testing Loss: tensor(0.2392)\n",
            "Testing Loss: tensor(0.2421)\n",
            "Testing Loss: tensor(0.2414)\n",
            "Testing Loss: tensor(0.2403)\n",
            "Testing Loss: tensor(0.2409)\n",
            "Testing Loss: tensor(0.2432)\n",
            "Testing Loss: tensor(0.2435)\n",
            "Testing Loss: tensor(0.2463)\n",
            "Testing Loss: tensor(0.2471)\n",
            "Testing Loss: tensor(0.2479)\n",
            "Testing Loss: tensor(0.2464)\n",
            "Testing Loss: tensor(0.2456)\n",
            "Testing Loss: tensor(0.2476)\n",
            "Testing Loss: tensor(0.2475)\n",
            "Testing Loss: tensor(0.2493)\n",
            "Testing Loss: tensor(0.2496)\n",
            "Testing Loss: tensor(0.2480)\n",
            "Testing Loss: tensor(0.2465)\n",
            "Testing Loss: tensor(0.2466)\n",
            "Testing Loss: tensor(0.2468)\n",
            "Testing Loss: tensor(0.2468)\n",
            "Testing Loss: tensor(0.2473)\n",
            "Testing Loss: tensor(0.2458)\n",
            "Testing Loss: tensor(0.2436)\n",
            "Testing Loss: tensor(0.2421)\n",
            "Testing Loss: tensor(0.2423)\n",
            "Testing Loss: tensor(0.2426)\n",
            "Testing Loss: tensor(0.2433)\n",
            "Testing Loss: tensor(0.2447)\n",
            "Testing Loss: tensor(0.2430)\n",
            "Testing Loss: tensor(0.2443)\n",
            "Testing Loss: tensor(0.2433)\n",
            "Testing Loss: tensor(0.2418)\n",
            "Testing Loss: tensor(0.2437)\n",
            "Testing Loss: tensor(0.2432)\n",
            "Testing Loss: tensor(0.2435)\n",
            "Testing Loss: tensor(0.2438)\n",
            "Testing Loss: tensor(0.2439)\n",
            "Testing Loss: tensor(0.2441)\n",
            "Testing Loss: tensor(0.2455)\n",
            "Testing Loss: tensor(0.2446)\n",
            "Testing Loss: tensor(0.2443)\n",
            "Testing Loss: tensor(0.2452)\n",
            "Testing Loss: tensor(0.2449)\n",
            "Testing Loss: tensor(0.2440)\n",
            "Testing Loss: tensor(0.2446)\n",
            "Testing Loss: tensor(0.2447)\n",
            "Testing Loss: tensor(0.2444)\n",
            "Testing Loss: tensor(0.2433)\n",
            "Testing Loss: tensor(0.2423)\n",
            "Testing Loss: tensor(0.2420)\n",
            "Testing Loss: tensor(0.2424)\n",
            "Testing Loss: tensor(0.2444)\n",
            "Testing Loss: tensor(0.2471)\n",
            "Testing Loss: tensor(0.2464)\n",
            "Testing Loss: tensor(0.2492)\n",
            "Testing Loss: tensor(0.2493)\n",
            "Testing Loss: tensor(0.2490)\n",
            "Testing Loss: tensor(0.2471)\n",
            "Testing Loss: tensor(0.2471)\n",
            "Testing Loss: tensor(0.2464)\n",
            "Testing Loss: tensor(0.2463)\n",
            "Testing Loss: tensor(0.2464)\n",
            "Testing Loss: tensor(0.2456)\n",
            "Testing Loss: tensor(0.2441)\n",
            "Testing Loss: tensor(0.2423)\n",
            "Testing Loss: tensor(0.2445)\n",
            "Testing Loss: tensor(0.2448)\n",
            "Testing Loss: tensor(0.2436)\n",
            "Testing Loss: tensor(0.2419)\n",
            "Testing Loss: tensor(0.2414)\n",
            "Testing Loss: tensor(0.2423)\n",
            "Testing Loss: tensor(0.2420)\n",
            "Testing Loss: tensor(0.2417)\n",
            "Testing Loss: tensor(0.2419)\n",
            "Testing Loss: tensor(0.2446)\n",
            "Testing Loss: tensor(0.2454)\n",
            "Testing Loss: tensor(0.2450)\n",
            "Testing Loss: tensor(0.2447)\n",
            "Testing Loss: tensor(0.2464)\n",
            "Testing Loss: tensor(0.2453)\n",
            "Testing Loss: tensor(0.2484)\n",
            "Testing Loss: tensor(0.2472)\n",
            "Testing Loss: tensor(0.2474)\n",
            "Testing Loss: tensor(0.2469)\n",
            "Testing Loss: tensor(0.2483)\n",
            "Testing Loss: tensor(0.2484)\n",
            "Testing Loss: tensor(0.2505)\n",
            "Testing Loss: tensor(0.2506)\n",
            "Testing Loss: tensor(0.2509)\n",
            "Testing Loss: tensor(0.2504)\n",
            "Testing Loss: tensor(0.2494)\n",
            "Testing Loss: tensor(0.2515)\n",
            "Testing Loss: tensor(0.2527)\n",
            "Testing Loss: tensor(0.2531)\n",
            "Testing Loss: tensor(0.2525)\n",
            "Testing Loss: tensor(0.2518)\n",
            "Testing Loss: tensor(0.2504)\n",
            "Testing Loss: tensor(0.2499)\n",
            "Testing Loss: tensor(0.2495)\n",
            "Testing Loss: tensor(0.2496)\n",
            "Testing Loss: tensor(0.2486)\n",
            "Testing Loss: tensor(0.2480)\n",
            "Testing Loss: tensor(0.2480)\n",
            "Testing Loss: tensor(0.2475)\n",
            "Testing Loss: tensor(0.2485)\n",
            "Testing Loss: tensor(0.2483)\n",
            "Testing Loss: tensor(0.2503)\n",
            "Testing Loss: tensor(0.2498)\n",
            "Testing Loss: tensor(0.2503)\n",
            "Testing Loss: tensor(0.2497)\n",
            "Testing Loss: tensor(0.2488)\n",
            "Testing Loss: tensor(0.2493)\n",
            "Testing Loss: tensor(0.2482)\n",
            "Testing Loss: tensor(0.2486)\n",
            "Testing Loss: tensor(0.2481)\n",
            "Testing Loss: tensor(0.2486)\n",
            "Testing Loss: tensor(0.2488)\n",
            "Testing Loss: tensor(0.2503)\n",
            "Testing Loss: tensor(0.2509)\n",
            "Testing Loss: tensor(0.2511)\n",
            "Testing Loss: tensor(0.2513)\n",
            "Testing Loss: tensor(0.2509)\n",
            "Testing Loss: tensor(0.2510)\n",
            "Testing Loss: tensor(0.2509)\n",
            "Testing Loss: tensor(0.2508)\n",
            "Testing Loss: tensor(0.2508)\n",
            "Testing Loss: tensor(0.2515)\n",
            "Testing Loss: tensor(0.2524)\n",
            "Testing Loss: tensor(0.2516)\n",
            "Testing Loss: tensor(0.2514)\n",
            "Testing Loss: tensor(0.2514)\n",
            "Testing Loss: tensor(0.2524)\n",
            "Testing Loss: tensor(0.2526)\n",
            "Testing Loss: tensor(0.2522)\n",
            "Testing Loss: tensor(0.2527)\n",
            "Testing Loss: tensor(0.2521)\n",
            "Testing Loss: tensor(0.2524)\n",
            "Testing Loss: tensor(0.2530)\n",
            "Testing Loss: tensor(0.2524)\n",
            "Testing Loss: tensor(0.2518)\n",
            "Testing Loss: tensor(0.2516)\n",
            "Testing Loss: tensor(0.2520)\n",
            "Testing Loss: tensor(0.2527)\n",
            "Testing Loss: tensor(0.2518)\n",
            "Testing Loss: tensor(0.2525)\n",
            "Testing Loss: tensor(0.2525)\n",
            "Testing Loss: tensor(0.2522)\n",
            "Testing Loss: tensor(0.2527)\n",
            "Testing Loss: tensor(0.2534)\n",
            "Testing Loss: tensor(0.2539)\n",
            "Testing Loss: tensor(0.2535)\n",
            "Testing Loss: tensor(0.2528)\n",
            "Testing Loss: tensor(0.2527)\n",
            "Testing Loss: tensor(0.2532)\n",
            "Testing Loss: tensor(0.2547)\n",
            "Testing Loss: tensor(0.2545)\n",
            "Testing Loss: tensor(0.2541)\n",
            "Testing Loss: tensor(0.2538)\n",
            "Testing Loss: tensor(0.2533)\n",
            "Testing Loss: tensor(0.2535)\n",
            "Testing Loss: tensor(0.2530)\n",
            "Testing Loss: tensor(0.2531)\n",
            "Testing Loss: tensor(0.2526)\n",
            "Testing Loss: tensor(0.2527)\n",
            "Testing Loss: tensor(0.2523)\n",
            "Testing Loss: tensor(0.2522)\n",
            "Testing Loss: tensor(0.2523)\n",
            "Testing Loss: tensor(0.2522)\n",
            "Testing Loss: tensor(0.2522)\n",
            "Testing Loss: tensor(0.2525)\n",
            "Testing Loss: tensor(0.2524)\n",
            "Testing Loss: tensor(0.2528)\n",
            "Testing Loss: tensor(0.2521)\n",
            "Testing Loss: tensor(0.2519)\n",
            "Testing Loss: tensor(0.2517)\n",
            "Testing Loss: tensor(0.2519)\n",
            "Testing Loss: tensor(0.2515)\n",
            "Testing Loss: tensor(0.2505)\n",
            "Testing Loss: tensor(0.2500)\n",
            "Testing Loss: tensor(0.2501)\n",
            "Testing Loss: tensor(0.2508)\n",
            "Testing Loss: tensor(0.2510)\n",
            "Testing Loss: tensor(0.2509)\n",
            "Testing Loss: tensor(0.2515)\n",
            "Testing Loss: tensor(0.2511)\n",
            "Testing Loss: tensor(0.2514)\n",
            "Testing Loss: tensor(0.2511)\n",
            "Testing Loss: tensor(0.2513)\n",
            "Testing Loss: tensor(0.2508)\n",
            "Testing Loss: tensor(0.2510)\n",
            "Testing Loss: tensor(0.2517)\n",
            "Testing Loss: tensor(0.2512)\n",
            "Testing Loss: tensor(0.2509)\n",
            "Testing Loss: tensor(0.2512)\n",
            "Testing Loss: tensor(0.2515)\n",
            "Testing Loss: tensor(0.2516)\n",
            "Testing Loss: tensor(0.2514)\n",
            "Testing Loss: tensor(0.2508)\n",
            "Testing Loss: tensor(0.2506)\n",
            "Testing Loss: tensor(0.2506)\n",
            "Testing Loss: tensor(0.2505)\n",
            "Testing Loss: tensor(0.2504)\n",
            "Testing Loss: tensor(0.2502)\n",
            "Testing Loss: tensor(0.2500)\n",
            "Testing Loss: tensor(0.2502)\n",
            "Testing Loss: tensor(0.2504)\n",
            "Testing Loss: tensor(0.2515)\n",
            "Testing Loss: tensor(0.2524)\n",
            "Testing Loss: tensor(0.2527)\n",
            "Testing Loss: tensor(0.2527)\n",
            "Testing Loss: tensor(0.2522)\n",
            "Testing Loss: tensor(0.2523)\n",
            "Testing Loss: tensor(0.2524)\n",
            "Testing Loss: tensor(0.2521)\n",
            "Testing Loss: tensor(0.2523)\n",
            "Testing Loss: tensor(0.2525)\n",
            "Testing Loss: tensor(0.2526)\n",
            "Testing Loss: tensor(0.2521)\n",
            "Testing Loss: tensor(0.2525)\n",
            "Testing Loss: tensor(0.2523)\n",
            "Testing Loss: tensor(0.2523)\n",
            "Testing Loss: tensor(0.2521)\n",
            "Testing Loss: tensor(0.2520)\n",
            "Testing Loss: tensor(0.2517)\n",
            "Testing Loss: tensor(0.2516)\n",
            "Testing Loss: tensor(0.2520)\n",
            "Testing Loss: tensor(0.2521)\n",
            "Testing Loss: tensor(0.2537)\n",
            "Testing Loss: tensor(0.2540)\n",
            "Testing Loss: tensor(0.2539)\n",
            "Testing Loss: tensor(0.2539)\n",
            "Testing Loss: tensor(0.2541)\n",
            "Testing Loss: tensor(0.2539)\n",
            "Testing Loss: tensor(0.2536)\n",
            "Testing Loss: tensor(0.2535)\n",
            "Testing Loss: tensor(0.2532)\n",
            "Testing Loss: tensor(0.2531)\n",
            "Testing Loss: tensor(0.2526)\n",
            "Testing Loss: tensor(0.2526)\n",
            "Testing Loss: tensor(0.2527)\n",
            "Testing Loss: tensor(0.2523)\n",
            "Testing Loss: tensor(0.2523)\n",
            "Testing Loss: tensor(0.2515)\n",
            "Testing Loss: tensor(0.2513)\n",
            "Testing Loss: tensor(0.2510)\n",
            "Testing Loss: tensor(0.2509)\n",
            "Testing Loss: tensor(0.2505)\n",
            "Testing Loss: tensor(0.2501)\n",
            "Testing Loss: tensor(0.2499)\n",
            "Testing Loss: tensor(0.2496)\n",
            "Testing Loss: tensor(0.2496)\n",
            "Testing Loss: tensor(0.2496)\n",
            "Testing Loss: tensor(0.2497)\n",
            "Testing Loss: tensor(0.2498)\n",
            "Testing Loss: tensor(0.2495)\n",
            "Testing Loss: tensor(0.2493)\n",
            "Testing Loss: tensor(0.2493)\n",
            "Testing Loss: tensor(0.2492)\n",
            "Testing Loss: tensor(0.2492)\n",
            "Testing Loss: tensor(0.2491)\n",
            "Testing Loss: tensor(0.2490)\n",
            "Testing Loss: tensor(0.2493)\n",
            "Testing Loss: tensor(0.2495)\n",
            "Testing Loss: tensor(0.2489)\n",
            "Testing Loss: tensor(0.2486)\n",
            "Testing Loss: tensor(0.2486)\n",
            "Testing Loss: tensor(0.2492)\n",
            "Testing Loss: tensor(0.2492)\n",
            "Testing Loss: tensor(0.2491)\n",
            "Testing Loss: tensor(0.2488)\n",
            "Testing Loss: tensor(0.2486)\n",
            "Testing Loss: tensor(0.2489)\n",
            "Testing Loss: tensor(0.2489)\n",
            "Testing Loss: tensor(0.2490)\n",
            "Testing Loss: tensor(0.2494)\n",
            "Testing Loss: tensor(0.2490)\n",
            "Testing Loss: tensor(0.2495)\n",
            "Testing Loss: tensor(0.2493)\n",
            "Testing Loss: tensor(0.2493)\n",
            "Testing Loss: tensor(0.2490)\n",
            "Testing Loss: tensor(0.2488)\n",
            "Testing Loss: tensor(0.2487)\n",
            "Testing Loss: tensor(0.2486)\n",
            "Testing Loss: tensor(0.2486)\n",
            "Testing Loss: tensor(0.2479)\n",
            "Testing Loss: tensor(0.2476)\n",
            "Testing Loss: tensor(0.2477)\n",
            "Testing Loss: tensor(0.2482)\n",
            "Testing Loss: tensor(0.2484)\n",
            "Testing Loss: tensor(0.2486)\n",
            "Testing Loss: tensor(0.2489)\n",
            "Testing Loss: tensor(0.2491)\n",
            "Testing Loss: tensor(0.2490)\n",
            "Testing Loss: tensor(0.2490)\n",
            "Testing Loss: tensor(0.2494)\n",
            "Testing Loss: tensor(0.2490)\n",
            "Testing Loss: tensor(0.2488)\n",
            "Testing Loss: tensor(0.2489)\n",
            "Testing Loss: tensor(0.2490)\n",
            "Testing Loss: tensor(0.2493)\n",
            "Testing Loss: tensor(0.2495)\n",
            "Testing Loss: tensor(0.2495)\n",
            "Testing Loss: tensor(0.2495)\n",
            "Testing Loss: tensor(0.2494)\n",
            "Testing Loss: tensor(0.2494)\n",
            "Testing Loss: tensor(0.2492)\n",
            "Testing Loss: tensor(0.2493)\n",
            "Testing Loss: tensor(0.2494)\n",
            "Testing Loss: tensor(0.2493)\n",
            "Testing Loss: tensor(0.2495)\n",
            "Testing Loss: tensor(0.2497)\n",
            "Testing Loss: tensor(0.2496)\n",
            "Testing Loss: tensor(0.2495)\n",
            "Testing Loss: tensor(0.2493)\n",
            "Testing Loss: tensor(0.2491)\n",
            "Testing Loss: tensor(0.2492)\n",
            "Testing Loss: tensor(0.2490)\n",
            "Testing Loss: tensor(0.2489)\n",
            "Testing Loss: tensor(0.2490)\n",
            "Testing Loss: tensor(0.2490)\n",
            "Testing Loss: tensor(0.2486)\n",
            "Testing Loss: tensor(0.2488)\n",
            "Testing Loss: tensor(0.2488)\n",
            "Testing Loss: tensor(0.2485)\n",
            "Testing Loss: tensor(0.2488)\n",
            "Testing Loss: tensor(0.2486)\n",
            "Testing Loss: tensor(0.2488)\n",
            "Testing Loss: tensor(0.2485)\n",
            "Testing Loss: tensor(0.2479)\n",
            "Testing Loss: tensor(0.2488)\n",
            "Testing Loss: tensor(0.2495)\n",
            "Testing Loss: tensor(0.2495)\n",
            "Testing Loss: tensor(0.2491)\n",
            "Testing Loss: tensor(0.2497)\n",
            "Testing Loss: tensor(0.2501)\n",
            "Testing Loss: tensor(0.2510)\n",
            "Testing Loss: tensor(0.2510)\n",
            "Testing Loss: tensor(0.2504)\n",
            "Testing Loss: tensor(0.2505)\n",
            "Testing Loss: tensor(0.2499)\n",
            "Testing Loss: tensor(0.2493)\n",
            "Testing Loss: tensor(0.2494)\n",
            "Testing Loss: tensor(0.2495)\n",
            "Testing Loss: tensor(0.2489)\n",
            "Testing Loss: tensor(0.2483)\n",
            "Testing Loss: tensor(0.2483)\n",
            "Testing Loss: tensor(0.2481)\n",
            "Testing Loss: tensor(0.2480)\n",
            "Testing Loss: tensor(0.2482)\n",
            "Testing Loss: tensor(0.2488)\n",
            "Testing Loss: tensor(0.2494)\n",
            "Testing Loss: tensor(0.2491)\n",
            "Testing Loss: tensor(0.2489)\n",
            "Testing Loss: tensor(0.2486)\n",
            "Testing Loss: tensor(0.2486)\n",
            "Testing Loss: tensor(0.2481)\n",
            "Testing Loss: tensor(0.2483)\n",
            "Testing Loss: tensor(0.2483)\n",
            "Testing Loss: tensor(0.2483)\n",
            "Testing Loss: tensor(0.2485)\n",
            "Testing Loss: tensor(0.2488)\n",
            "Testing Loss: tensor(0.2486)\n",
            "Testing Loss: tensor(0.2484)\n",
            "Testing Loss: tensor(0.2484)\n",
            "Testing Loss: tensor(0.2478)\n",
            "Testing Loss: tensor(0.2473)\n",
            "Testing Loss: tensor(0.2477)\n",
            "Testing Loss: tensor(0.2479)\n",
            "Testing Loss: tensor(0.2490)\n",
            "Testing Loss: tensor(0.2507)\n",
            "Testing Loss: tensor(0.2505)\n",
            "Testing Loss: tensor(0.2500)\n",
            "Testing Loss: tensor(0.2503)\n",
            "Testing Loss: tensor(0.2502)\n",
            "Testing Loss: tensor(0.2516)\n",
            "Testing Loss: tensor(0.2517)\n",
            "Testing Loss: tensor(0.2521)\n",
            "Testing Loss: tensor(0.2523)\n",
            "Testing Loss: tensor(0.2518)\n",
            "Testing Loss: tensor(0.2518)\n",
            "Testing Loss: tensor(0.2518)\n",
            "Testing Loss: tensor(0.2512)\n",
            "Testing Loss: tensor(0.2507)\n",
            "Testing Loss: tensor(0.2501)\n",
            "Testing Loss: tensor(0.2496)\n"
          ]
        }
      ],
      "source": [
        "testing_loss = 0\n",
        "s = 0.\n",
        "for id_user in range(nb_users):\n",
        "    v = training_set[id_user:id_user+1]\n",
        "    vt = test_set[id_user:id_user+1]\n",
        "    if len(vt[vt>=0]) > 0:\n",
        "        _,h = rbm.sample_h(v)\n",
        "        _,v = rbm.sample_v(h)\n",
        "        testing_loss += torch.mean(torch.abs(vt[vt>=0] - v[vt>=0]))\n",
        "        s += 1.\n",
        "        print(\"Testing Loss: \"+str(testing_loss/s))\n"
      ]
    }
  ],
  "metadata": {
    "accelerator": "GPU",
    "colab": {
      "name": "rbm.ipynb",
      "provenance": [],
      "toc_visible": true
    },
    "kernelspec": {
      "display_name": "Python 3",
      "name": "python3"
    },
    "language_info": {
      "codemirror_mode": {
        "name": "ipython",
        "version": 3
      },
      "file_extension": ".py",
      "mimetype": "text/x-python",
      "name": "python",
      "nbconvert_exporter": "python",
      "pygments_lexer": "ipython3",
      "version": "3.9.13"
    }
  },
  "nbformat": 4,
  "nbformat_minor": 0
}
