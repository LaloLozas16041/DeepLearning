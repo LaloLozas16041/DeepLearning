{
  "nbformat": 4,
  "nbformat_minor": 0,
  "metadata": {
    "colab": {
      "name": "RNN.ipynb",
      "provenance": [],
      "collapsed_sections": []
    },
    "kernelspec": {
      "name": "python3",
      "display_name": "Python 3"
    },
    "accelerator": "GPU"
  },
  "cells": [
    {
      "cell_type": "code",
      "metadata": {
        "id": "rpVgSST_Y455",
        "colab_type": "code",
        "colab": {
          "base_uri": "https://localhost:8080/",
          "height": 221
        },
        "outputId": "d11b5cbf-a03b-4b1c-a09e-938e4d56ab29"
      },
      "source": [
        "pip install --upgrade keras"
      ],
      "execution_count": 1,
      "outputs": [
        {
          "output_type": "stream",
          "text": [
            "Collecting keras\n",
            "  Downloading https://files.pythonhosted.org/packages/44/e1/dc0757b20b56c980b5553c1b5c4c32d378c7055ab7bfa92006801ad359ab/Keras-2.4.3-py2.py3-none-any.whl\n",
            "Requirement already satisfied, skipping upgrade: numpy>=1.9.1 in /usr/local/lib/python3.6/dist-packages (from keras) (1.18.5)\n",
            "Requirement already satisfied, skipping upgrade: h5py in /usr/local/lib/python3.6/dist-packages (from keras) (2.10.0)\n",
            "Requirement already satisfied, skipping upgrade: pyyaml in /usr/local/lib/python3.6/dist-packages (from keras) (3.13)\n",
            "Requirement already satisfied, skipping upgrade: scipy>=0.14 in /usr/local/lib/python3.6/dist-packages (from keras) (1.4.1)\n",
            "Requirement already satisfied, skipping upgrade: six in /usr/local/lib/python3.6/dist-packages (from h5py->keras) (1.15.0)\n",
            "Installing collected packages: keras\n",
            "  Found existing installation: Keras 2.3.1\n",
            "    Uninstalling Keras-2.3.1:\n",
            "      Successfully uninstalled Keras-2.3.1\n",
            "Successfully installed keras-2.4.3\n"
          ],
          "name": "stdout"
        }
      ]
    },
    {
      "cell_type": "markdown",
      "metadata": {
        "id": "dsvzwGy-bWrT",
        "colab_type": "text"
      },
      "source": [
        "# Clonamos el repositorio para obtener el dataset"
      ]
    },
    {
      "cell_type": "code",
      "metadata": {
        "id": "DWYwSH-3Z97s",
        "colab_type": "code",
        "colab": {
          "base_uri": "https://localhost:8080/",
          "height": 153
        },
        "outputId": "c8427df9-e692-44ac-e923-302f1cdf5cdf"
      },
      "source": [
        "!git clone https://github.com/joanby/deeplearning-az.git"
      ],
      "execution_count": 2,
      "outputs": [
        {
          "output_type": "stream",
          "text": [
            "Cloning into 'deeplearning-az'...\n",
            "remote: Enumerating objects: 51, done.\u001b[K\n",
            "remote: Counting objects: 100% (51/51), done.\u001b[K\n",
            "remote: Compressing objects: 100% (36/36), done.\u001b[K\n",
            "remote: Total 10147 (delta 22), reused 35 (delta 15), pack-reused 10096\u001b[K\n",
            "Receiving objects: 100% (10147/10147), 236.93 MiB | 24.77 MiB/s, done.\n",
            "Resolving deltas: 100% (47/47), done.\n",
            "Checking out files: 100% (10107/10107), done.\n"
          ],
          "name": "stdout"
        }
      ]
    },
    {
      "cell_type": "code",
      "metadata": {
        "id": "w-fLk6oobhF2",
        "colab_type": "code",
        "colab": {
          "base_uri": "https://localhost:8080/",
          "height": 122
        },
        "outputId": "fab36b86-0648-4b98-c68d-e827051ac506"
      },
      "source": [
        "from google.colab import drive\n",
        "drive.mount('/content/drive')"
      ],
      "execution_count": 3,
      "outputs": [
        {
          "output_type": "stream",
          "text": [
            "Go to this URL in a browser: https://accounts.google.com/o/oauth2/auth?client_id=947318989803-6bn6qk8qdgf4n4g3pfee6491hc0brc4i.apps.googleusercontent.com&redirect_uri=urn%3aietf%3awg%3aoauth%3a2.0%3aoob&response_type=code&scope=email%20https%3a%2f%2fwww.googleapis.com%2fauth%2fdocs.test%20https%3a%2f%2fwww.googleapis.com%2fauth%2fdrive%20https%3a%2f%2fwww.googleapis.com%2fauth%2fdrive.photos.readonly%20https%3a%2f%2fwww.googleapis.com%2fauth%2fpeopleapi.readonly\n",
            "\n",
            "Enter your authorization code:\n",
            "··········\n",
            "Mounted at /content/drive\n"
          ],
          "name": "stdout"
        }
      ]
    },
    {
      "cell_type": "markdown",
      "metadata": {
        "id": "t15NNKt-lpv7",
        "colab_type": "text"
      },
      "source": [
        "# Parte 1 - Preprocesado de los datos\n",
        "\n",
        "# Importación de las librerías"
      ]
    },
    {
      "cell_type": "code",
      "metadata": {
        "id": "7NCdTPCslrel",
        "colab_type": "code",
        "colab": {}
      },
      "source": [
        "import numpy as np\n",
        "import pandas as pd\n",
        "import matplotlib.pyplot as plt"
      ],
      "execution_count": 4,
      "outputs": []
    },
    {
      "cell_type": "markdown",
      "metadata": {
        "id": "7w97ATJzlwcx",
        "colab_type": "text"
      },
      "source": [
        "# Importar el dataset de entrenamiento"
      ]
    },
    {
      "cell_type": "code",
      "metadata": {
        "id": "In-BOPsflu-s",
        "colab_type": "code",
        "colab": {}
      },
      "source": [
        "dataset_train = pd.read_csv(\"/content/deeplearning-az/datasets/Part 3 - Recurrent Neural Networks (RNN)/Google_Stock_Price_Train.csv\")\n",
        "training_set  = dataset_train.iloc[:, 1:2].values"
      ],
      "execution_count": 5,
      "outputs": []
    },
    {
      "cell_type": "markdown",
      "metadata": {
        "id": "W5TcdlcrlyZq",
        "colab_type": "text"
      },
      "source": [
        "# Escalado de características"
      ]
    },
    {
      "cell_type": "code",
      "metadata": {
        "id": "oB6YUNwDl0uE",
        "colab_type": "code",
        "colab": {}
      },
      "source": [
        "from sklearn.preprocessing import MinMaxScaler\n",
        "sc = MinMaxScaler(feature_range = (0, 1))\n",
        "training_set_scaled = sc.fit_transform(training_set)"
      ],
      "execution_count": 6,
      "outputs": []
    },
    {
      "cell_type": "markdown",
      "metadata": {
        "id": "bTnKn6ifl2He",
        "colab_type": "text"
      },
      "source": [
        "# Crear una estructura de datos con 60 timesteps y 1 salida"
      ]
    },
    {
      "cell_type": "code",
      "metadata": {
        "id": "kk8UUw0_lz5S",
        "colab_type": "code",
        "colab": {}
      },
      "source": [
        "X_train = []\n",
        "y_train = []\n",
        "for i in range(60, 1258):\n",
        "    X_train.append(training_set_scaled[i-60:i, 0])\n",
        "    y_train.append(training_set_scaled[i, 0])\n",
        "X_train, y_train = np.array(X_train), np.array(y_train)\n"
      ],
      "execution_count": 7,
      "outputs": []
    },
    {
      "cell_type": "markdown",
      "metadata": {
        "id": "ofUwrSJbl6cO",
        "colab_type": "text"
      },
      "source": [
        "# Redimensión de los datos"
      ]
    },
    {
      "cell_type": "code",
      "metadata": {
        "id": "17RfTB75l7Bi",
        "colab_type": "code",
        "colab": {}
      },
      "source": [
        "X_train = np.reshape(X_train, (X_train.shape[0], X_train.shape[1], 1))"
      ],
      "execution_count": 8,
      "outputs": []
    },
    {
      "cell_type": "markdown",
      "metadata": {
        "id": "AtczsRskbj2F",
        "colab_type": "text"
      },
      "source": [
        "# Parte 2 - Construcción de la RNR"
      ]
    },
    {
      "cell_type": "code",
      "metadata": {
        "id": "Td6hF67QnL41",
        "colab_type": "code",
        "colab": {}
      },
      "source": [
        "from keras.models import Sequential\n",
        "from keras.layers import Dense, LSTM, Dropout"
      ],
      "execution_count": 9,
      "outputs": []
    },
    {
      "cell_type": "code",
      "metadata": {
        "id": "rQL9sTJ9Y_Vc",
        "colab_type": "code",
        "colab": {}
      },
      "source": [
        "regressor = Sequential()"
      ],
      "execution_count": 10,
      "outputs": []
    },
    {
      "cell_type": "markdown",
      "metadata": {
        "id": "tUbAgrrqbpsY",
        "colab_type": "text"
      },
      "source": [
        "# Añadir la primera capa de LSTM y la regulariación por Dropout"
      ]
    },
    {
      "cell_type": "code",
      "metadata": {
        "id": "2kYdJsjsZCR8",
        "colab_type": "code",
        "colab": {}
      },
      "source": [
        "regressor.add(LSTM(units = 50, return_sequences = True, input_shape = (X_train.shape[1], 1) ))\n",
        "regressor.add(Dropout(0.2))"
      ],
      "execution_count": 11,
      "outputs": []
    },
    {
      "cell_type": "markdown",
      "metadata": {
        "id": "rBFya76KbsKw",
        "colab_type": "text"
      },
      "source": [
        "# Añadir la segunda capa de LSTM y la regulariación por Dropout"
      ]
    },
    {
      "cell_type": "code",
      "metadata": {
        "id": "jty3bSFYZD98",
        "colab_type": "code",
        "colab": {}
      },
      "source": [
        "regressor.add(LSTM(units = 50, return_sequences = True ))\n",
        "regressor.add(Dropout(0.2))"
      ],
      "execution_count": 12,
      "outputs": []
    },
    {
      "cell_type": "markdown",
      "metadata": {
        "id": "IgJ4s9fSb8bm",
        "colab_type": "text"
      },
      "source": [
        "# Añadir la tercera capa de LSTM y la regulariación por Dropout"
      ]
    },
    {
      "cell_type": "code",
      "metadata": {
        "id": "mkVuO25YZHtg",
        "colab_type": "code",
        "colab": {}
      },
      "source": [
        "regressor.add(LSTM(units = 50, return_sequences = True ))\n",
        "regressor.add(Dropout(0.2))"
      ],
      "execution_count": 13,
      "outputs": []
    },
    {
      "cell_type": "markdown",
      "metadata": {
        "id": "D8PFVngxmTaT",
        "colab_type": "text"
      },
      "source": [
        "# Añadir la cuarta capa de LSTM y la regulariación por Dropout\n"
      ]
    },
    {
      "cell_type": "code",
      "metadata": {
        "id": "JWl9_DHxZJZD",
        "colab_type": "code",
        "colab": {}
      },
      "source": [
        "regressor.add(LSTM(units = 50))\n",
        "regressor.add(Dropout(0.2))"
      ],
      "execution_count": 14,
      "outputs": []
    },
    {
      "cell_type": "markdown",
      "metadata": {
        "id": "iliYQ6aFmYov",
        "colab_type": "text"
      },
      "source": [
        "# Añadir la capa de salida"
      ]
    },
    {
      "cell_type": "code",
      "metadata": {
        "id": "KQnTQSjyZKXs",
        "colab_type": "code",
        "colab": {}
      },
      "source": [
        "regressor.add(Dense(units = 1))"
      ],
      "execution_count": 15,
      "outputs": []
    },
    {
      "cell_type": "markdown",
      "metadata": {
        "id": "p7INHvHmcFdL",
        "colab_type": "text"
      },
      "source": [
        "# Compilar la RNR\n",
        "# Como va a ser entrenada?"
      ]
    },
    {
      "cell_type": "code",
      "metadata": {
        "id": "Uc7pBop7ZLeN",
        "colab_type": "code",
        "colab": {}
      },
      "source": [
        "regressor.compile(optimizer = 'adam', loss = 'mean_squared_error')"
      ],
      "execution_count": 16,
      "outputs": []
    },
    {
      "cell_type": "markdown",
      "metadata": {
        "id": "hits0FnccMjr",
        "colab_type": "text"
      },
      "source": [
        "# Ajustar la RNR al conjunto de entrenamiento"
      ]
    },
    {
      "cell_type": "code",
      "metadata": {
        "id": "BYgCwVDFZMrU",
        "colab_type": "code",
        "colab": {
          "base_uri": "https://localhost:8080/",
          "height": 1000
        },
        "outputId": "2a9b3579-508f-4d47-ec4d-dddac468bf3c"
      },
      "source": [
        "regressor.fit(X_train, y_train, epochs = 100, batch_size = 32)"
      ],
      "execution_count": 17,
      "outputs": [
        {
          "output_type": "stream",
          "text": [
            "Epoch 1/100\n",
            "38/38 [==============================] - 1s 15ms/step - loss: 0.0498\n",
            "Epoch 2/100\n",
            "38/38 [==============================] - 1s 14ms/step - loss: 0.0070\n",
            "Epoch 3/100\n",
            "38/38 [==============================] - 0s 13ms/step - loss: 0.0055\n",
            "Epoch 4/100\n",
            "38/38 [==============================] - 1s 13ms/step - loss: 0.0052\n",
            "Epoch 5/100\n",
            "38/38 [==============================] - 0s 13ms/step - loss: 0.0053\n",
            "Epoch 6/100\n",
            "38/38 [==============================] - 1s 13ms/step - loss: 0.0055\n",
            "Epoch 7/100\n",
            "38/38 [==============================] - 0s 13ms/step - loss: 0.0049\n",
            "Epoch 8/100\n",
            "38/38 [==============================] - 1s 13ms/step - loss: 0.0052\n",
            "Epoch 9/100\n",
            "38/38 [==============================] - 0s 13ms/step - loss: 0.0049\n",
            "Epoch 10/100\n",
            "38/38 [==============================] - 1s 13ms/step - loss: 0.0053\n",
            "Epoch 11/100\n",
            "38/38 [==============================] - 0s 13ms/step - loss: 0.0041\n",
            "Epoch 12/100\n",
            "38/38 [==============================] - 1s 13ms/step - loss: 0.0041\n",
            "Epoch 13/100\n",
            "38/38 [==============================] - 0s 13ms/step - loss: 0.0044\n",
            "Epoch 14/100\n",
            "38/38 [==============================] - 1s 13ms/step - loss: 0.0039\n",
            "Epoch 15/100\n",
            "38/38 [==============================] - 0s 13ms/step - loss: 0.0037\n",
            "Epoch 16/100\n",
            "38/38 [==============================] - 0s 13ms/step - loss: 0.0043\n",
            "Epoch 17/100\n",
            "38/38 [==============================] - 0s 13ms/step - loss: 0.0037\n",
            "Epoch 18/100\n",
            "38/38 [==============================] - 1s 14ms/step - loss: 0.0037\n",
            "Epoch 19/100\n",
            "38/38 [==============================] - 0s 13ms/step - loss: 0.0034\n",
            "Epoch 20/100\n",
            "38/38 [==============================] - 0s 13ms/step - loss: 0.0038\n",
            "Epoch 21/100\n",
            "38/38 [==============================] - 1s 13ms/step - loss: 0.0035\n",
            "Epoch 22/100\n",
            "38/38 [==============================] - 1s 14ms/step - loss: 0.0033\n",
            "Epoch 23/100\n",
            "38/38 [==============================] - 1s 13ms/step - loss: 0.0032\n",
            "Epoch 24/100\n",
            "38/38 [==============================] - 0s 13ms/step - loss: 0.0032\n",
            "Epoch 25/100\n",
            "38/38 [==============================] - 1s 13ms/step - loss: 0.0031\n",
            "Epoch 26/100\n",
            "38/38 [==============================] - 0s 13ms/step - loss: 0.0033\n",
            "Epoch 27/100\n",
            "38/38 [==============================] - 1s 13ms/step - loss: 0.0030\n",
            "Epoch 28/100\n",
            "38/38 [==============================] - 0s 13ms/step - loss: 0.0032\n",
            "Epoch 29/100\n",
            "38/38 [==============================] - 1s 13ms/step - loss: 0.0034\n",
            "Epoch 30/100\n",
            "38/38 [==============================] - 0s 13ms/step - loss: 0.0032\n",
            "Epoch 31/100\n",
            "38/38 [==============================] - 1s 13ms/step - loss: 0.0031\n",
            "Epoch 32/100\n",
            "38/38 [==============================] - 0s 13ms/step - loss: 0.0030\n",
            "Epoch 33/100\n",
            "38/38 [==============================] - 1s 13ms/step - loss: 0.0028\n",
            "Epoch 34/100\n",
            "38/38 [==============================] - 1s 13ms/step - loss: 0.0030\n",
            "Epoch 35/100\n",
            "38/38 [==============================] - 1s 13ms/step - loss: 0.0029\n",
            "Epoch 36/100\n",
            "38/38 [==============================] - 0s 13ms/step - loss: 0.0026\n",
            "Epoch 37/100\n",
            "38/38 [==============================] - 1s 13ms/step - loss: 0.0032\n",
            "Epoch 38/100\n",
            "38/38 [==============================] - 0s 13ms/step - loss: 0.0029\n",
            "Epoch 39/100\n",
            "38/38 [==============================] - 1s 13ms/step - loss: 0.0027\n",
            "Epoch 40/100\n",
            "38/38 [==============================] - 0s 13ms/step - loss: 0.0026\n",
            "Epoch 41/100\n",
            "38/38 [==============================] - 1s 13ms/step - loss: 0.0024\n",
            "Epoch 42/100\n",
            "38/38 [==============================] - 0s 13ms/step - loss: 0.0029\n",
            "Epoch 43/100\n",
            "38/38 [==============================] - 1s 13ms/step - loss: 0.0029\n",
            "Epoch 44/100\n",
            "38/38 [==============================] - 0s 13ms/step - loss: 0.0025\n",
            "Epoch 45/100\n",
            "38/38 [==============================] - 1s 13ms/step - loss: 0.0028\n",
            "Epoch 46/100\n",
            "38/38 [==============================] - 1s 13ms/step - loss: 0.0029\n",
            "Epoch 47/100\n",
            "38/38 [==============================] - 1s 14ms/step - loss: 0.0025\n",
            "Epoch 48/100\n",
            "38/38 [==============================] - 0s 13ms/step - loss: 0.0025\n",
            "Epoch 49/100\n",
            "38/38 [==============================] - 1s 13ms/step - loss: 0.0024\n",
            "Epoch 50/100\n",
            "38/38 [==============================] - 0s 13ms/step - loss: 0.0024\n",
            "Epoch 51/100\n",
            "38/38 [==============================] - 1s 14ms/step - loss: 0.0024\n",
            "Epoch 52/100\n",
            "38/38 [==============================] - 1s 13ms/step - loss: 0.0024\n",
            "Epoch 53/100\n",
            "38/38 [==============================] - 1s 13ms/step - loss: 0.0024\n",
            "Epoch 54/100\n",
            "38/38 [==============================] - 0s 13ms/step - loss: 0.0024\n",
            "Epoch 55/100\n",
            "38/38 [==============================] - 1s 14ms/step - loss: 0.0024\n",
            "Epoch 56/100\n",
            "38/38 [==============================] - 0s 13ms/step - loss: 0.0022\n",
            "Epoch 57/100\n",
            "38/38 [==============================] - 1s 13ms/step - loss: 0.0024\n",
            "Epoch 58/100\n",
            "38/38 [==============================] - 0s 13ms/step - loss: 0.0023\n",
            "Epoch 59/100\n",
            "38/38 [==============================] - 1s 13ms/step - loss: 0.0023\n",
            "Epoch 60/100\n",
            "38/38 [==============================] - 1s 13ms/step - loss: 0.0022\n",
            "Epoch 61/100\n",
            "38/38 [==============================] - 1s 13ms/step - loss: 0.0020\n",
            "Epoch 62/100\n",
            "38/38 [==============================] - 0s 13ms/step - loss: 0.0024\n",
            "Epoch 63/100\n",
            "38/38 [==============================] - 1s 13ms/step - loss: 0.0022\n",
            "Epoch 64/100\n",
            "38/38 [==============================] - 0s 13ms/step - loss: 0.0021\n",
            "Epoch 65/100\n",
            "38/38 [==============================] - 1s 13ms/step - loss: 0.0021\n",
            "Epoch 66/100\n",
            "38/38 [==============================] - 0s 13ms/step - loss: 0.0022\n",
            "Epoch 67/100\n",
            "38/38 [==============================] - 1s 13ms/step - loss: 0.0021\n",
            "Epoch 68/100\n",
            "38/38 [==============================] - 0s 13ms/step - loss: 0.0020\n",
            "Epoch 69/100\n",
            "38/38 [==============================] - 0s 13ms/step - loss: 0.0021\n",
            "Epoch 70/100\n",
            "38/38 [==============================] - 0s 13ms/step - loss: 0.0019\n",
            "Epoch 71/100\n",
            "38/38 [==============================] - 1s 13ms/step - loss: 0.0019\n",
            "Epoch 72/100\n",
            "38/38 [==============================] - 1s 13ms/step - loss: 0.0020\n",
            "Epoch 73/100\n",
            "38/38 [==============================] - 1s 13ms/step - loss: 0.0019\n",
            "Epoch 74/100\n",
            "38/38 [==============================] - 1s 13ms/step - loss: 0.0018\n",
            "Epoch 75/100\n",
            "38/38 [==============================] - 1s 13ms/step - loss: 0.0019\n",
            "Epoch 76/100\n",
            "38/38 [==============================] - 1s 13ms/step - loss: 0.0018\n",
            "Epoch 77/100\n",
            "38/38 [==============================] - 0s 13ms/step - loss: 0.0018\n",
            "Epoch 78/100\n",
            "38/38 [==============================] - 0s 13ms/step - loss: 0.0021\n",
            "Epoch 79/100\n",
            "38/38 [==============================] - 1s 13ms/step - loss: 0.0019\n",
            "Epoch 80/100\n",
            "38/38 [==============================] - 0s 13ms/step - loss: 0.0017\n",
            "Epoch 81/100\n",
            "38/38 [==============================] - 1s 13ms/step - loss: 0.0017\n",
            "Epoch 82/100\n",
            "38/38 [==============================] - 1s 13ms/step - loss: 0.0019\n",
            "Epoch 83/100\n",
            "38/38 [==============================] - 1s 14ms/step - loss: 0.0017\n",
            "Epoch 84/100\n",
            "38/38 [==============================] - 1s 13ms/step - loss: 0.0018\n",
            "Epoch 85/100\n",
            "38/38 [==============================] - 1s 13ms/step - loss: 0.0015\n",
            "Epoch 86/100\n",
            "38/38 [==============================] - 1s 14ms/step - loss: 0.0016\n",
            "Epoch 87/100\n",
            "38/38 [==============================] - 1s 13ms/step - loss: 0.0016\n",
            "Epoch 88/100\n",
            "38/38 [==============================] - 1s 13ms/step - loss: 0.0015\n",
            "Epoch 89/100\n",
            "38/38 [==============================] - 0s 13ms/step - loss: 0.0016\n",
            "Epoch 90/100\n",
            "38/38 [==============================] - 1s 14ms/step - loss: 0.0016\n",
            "Epoch 91/100\n",
            "38/38 [==============================] - 0s 13ms/step - loss: 0.0017\n",
            "Epoch 92/100\n",
            "38/38 [==============================] - 1s 14ms/step - loss: 0.0019\n",
            "Epoch 93/100\n",
            "38/38 [==============================] - 0s 13ms/step - loss: 0.0016\n",
            "Epoch 94/100\n",
            "38/38 [==============================] - 0s 13ms/step - loss: 0.0016\n",
            "Epoch 95/100\n",
            "38/38 [==============================] - 0s 13ms/step - loss: 0.0014\n",
            "Epoch 96/100\n",
            "38/38 [==============================] - 1s 14ms/step - loss: 0.0016\n",
            "Epoch 97/100\n",
            "38/38 [==============================] - 0s 13ms/step - loss: 0.0016\n",
            "Epoch 98/100\n",
            "38/38 [==============================] - 1s 14ms/step - loss: 0.0015\n",
            "Epoch 99/100\n",
            "38/38 [==============================] - 1s 13ms/step - loss: 0.0017\n",
            "Epoch 100/100\n",
            "38/38 [==============================] - 1s 14ms/step - loss: 0.0016\n"
          ],
          "name": "stdout"
        },
        {
          "output_type": "execute_result",
          "data": {
            "text/plain": [
              "<tensorflow.python.keras.callbacks.History at 0x7f3224358668>"
            ]
          },
          "metadata": {
            "tags": []
          },
          "execution_count": 17
        }
      ]
    },
    {
      "cell_type": "markdown",
      "metadata": {
        "id": "KwHuYDWfcPEZ",
        "colab_type": "text"
      },
      "source": [
        "# Parte 3 - Ajustar las predicciones y visualizar los resultados"
      ]
    },
    {
      "cell_type": "markdown",
      "metadata": {
        "id": "bu5TY8-ampml",
        "colab_type": "text"
      },
      "source": [
        "# Obtener el valor de las acciones reales  de Enero de 2017"
      ]
    },
    {
      "cell_type": "code",
      "metadata": {
        "id": "Z7k7KG9SZOjL",
        "colab_type": "code",
        "colab": {}
      },
      "source": [
        "dataset_test = pd.read_csv('/content/deeplearning-az/datasets/Part 3 - Recurrent Neural Networks (RNN)/Google_Stock_Price_Test.csv')\n",
        "real_stock_price = dataset_test.iloc[:, 1:2].values\n"
      ],
      "execution_count": 18,
      "outputs": []
    },
    {
      "cell_type": "markdown",
      "metadata": {
        "id": "1_6dWXuzmuHS",
        "colab_type": "text"
      },
      "source": [
        "# Obtener la predicción de la acción con la RNR para Enero de 2017"
      ]
    },
    {
      "cell_type": "code",
      "metadata": {
        "id": "sbDeaSRQmveW",
        "colab_type": "code",
        "colab": {
          "base_uri": "https://localhost:8080/",
          "height": 295
        },
        "outputId": "e896a13b-9a05-4260-da22-3d254c491655"
      },
      "source": [
        "dataset_total = pd.concat((dataset_train['Open'], dataset_test['Open']), axis = 0)\n",
        "inputs = dataset_total[len(dataset_total) - len(dataset_test) - 60:].values\n",
        "inputs = inputs.reshape(-1,1)\n",
        "inputs = sc.transform(inputs)\n",
        "X_test = []\n",
        "for i in range(60, 80):\n",
        "    X_test.append(inputs[i-60:i, 0])\n",
        "X_test = np.array(X_test)\n",
        "X_test = np.reshape(X_test, (X_test.shape[0], X_test.shape[1], 1))\n",
        "\n",
        "predicted_stock_price = regressor.predict(X_test)\n",
        "predicted_stock_price = sc.inverse_transform(predicted_stock_price)\n",
        "\n",
        "# Visualizar los Resultados\n",
        "plt.plot(real_stock_price, color = 'red', label = 'Precio Real de la Accion de Google')\n",
        "plt.plot(predicted_stock_price, color = 'blue', label = 'Precio Predicho de la Accion de Google')\n",
        "plt.title(\"Prediccion con una RNR del valor de las acciones de Google\")\n",
        "plt.xlabel(\"Fecha\")\n",
        "plt.ylabel(\"Precio de la accion de Google\")\n",
        "plt.legend()\n",
        "plt.show()\n",
        "\n"
      ],
      "execution_count": 19,
      "outputs": [
        {
          "output_type": "display_data",
          "data": {
            "image/png": "[encoded data removed]",
            "text/plain": [
              "<Figure size 432x288 with 1 Axes>"
            ]
          },
          "metadata": {
            "tags": [],
            "needs_background": "light"
          }
        }
      ]
    }
  ]
}