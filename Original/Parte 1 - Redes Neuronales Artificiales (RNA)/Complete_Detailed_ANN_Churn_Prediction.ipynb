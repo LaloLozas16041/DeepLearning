{
 "cells": [
  {
   "cell_type": "markdown",
   "id": "56e7bd9e",
   "metadata": {},
   "source": [
    "# I. Introducción\n",
    "\n",
    "Este notebook presenta un análisis detallado para la construcción de una Red Neuronal Artificial (ANN) para predecir la rotación de clientes."
   ]
  },
  {
   "cell_type": "markdown",
   "id": "dbeea15b",
   "metadata": {},
   "source": [
    "# II. Importar Bibliotecas\n",
    "\n",
    "Importación de bibliotecas necesarias para el proyecto."
   ]
  },
  {
   "cell_type": "code",
   "execution_count": null,
   "id": "f7c1d7c9",
   "metadata": {},
   "outputs": [],
   "source": [
    "import pandas as pd\n",
    "from sklearn.model_selection import train_test_split\n",
    "from sklearn.preprocessing import StandardScaler, OneHotEncoder\n",
    "from sklearn.compose import ColumnTransformer\n",
    "from sklearn.metrics import confusion_matrix, accuracy_score, precision_score, recall_score, f1_score\n",
    "import matplotlib.pyplot as plt\n",
    "import seaborn as sns\n",
    "from tensorflow.keras.models import Sequential\n",
    "from tensorflow.keras.layers import Dense"
   ]
  },
  {
   "cell_type": "markdown",
   "id": "faf25b20",
   "metadata": {},
   "source": [
    "# III. Carga y Exploración de Datos\n",
    "\n",
    "Cargar el conjunto de datos y realizar una exploración inicial."
   ]
  },
  {
   "cell_type": "code",
   "execution_count": null,
   "id": "6149c721",
   "metadata": {},
   "outputs": [],
   "source": [
    "df = pd.read_csv('Churn_Modelling.csv')\n",
    "df.head()"
   ]
  },
  {
   "cell_type": "markdown",
   "id": "cd5ce112",
   "metadata": {},
   "source": [
    "# IV. Preprocesamiento de Datos\n",
    "\n",
    "Preparación y limpieza de los datos para el modelo de ANN."
   ]
  },
  {
   "cell_type": "markdown",
   "id": "c4372058",
   "metadata": {},
   "source": [
    "# V. Construcción de la ANN\n",
    "\n",
    "Creación de la arquitectura de la Red Neuronal."
   ]
  },
  {
   "cell_type": "markdown",
   "id": "4e3e1195",
   "metadata": {},
   "source": [
    "# VI. Entrenamiento de la ANN\n",
    "\n",
    "Proceso de entrenamiento del modelo con los datos."
   ]
  },
  {
   "cell_type": "markdown",
   "id": "2c0cf054",
   "metadata": {},
   "source": [
    "# VII. Evaluación del Modelo y Métricas\n",
    "\n",
    "Evaluación del rendimiento del modelo utilizando diferentes métricas."
   ]
  },
  {
   "cell_type": "markdown",
   "id": "7aeac2e8",
   "metadata": {},
   "source": [
    "# VIII. Visualizaciones\n",
    "\n",
    "Visualización de los resultados y métricas del modelo."
   ]
  },
  {
   "cell_type": "markdown",
   "id": "94062e5f",
   "metadata": {},
   "source": [
    "# IX. Detalles Matemáticos\n",
    "\n",
    "Explicación de los conceptos matemáticos involucrados en la ANN."
   ]
  },
  {
   "cell_type": "code",
   "execution_count": null,
   "id": "ac6862d2",
   "metadata": {},
   "outputs": [],
   "source": [
    "\n",
    "# Predicciones del modelo\n",
    "y_pred = ann.predict(X_test)\n",
    "y_pred = (y_pred > 0.5)\n",
    "\n",
    "# Matriz de confusión y métricas\n",
    "cm = confusion_matrix(y_test, y_pred)\n",
    "accuracy = accuracy_score(y_test, y_pred)\n",
    "precision = precision_score(y_test, y_pred)\n",
    "recall = recall_score(y_test, y_pred)\n",
    "f1 = f1_score(y_test, y_pred)\n",
    "\n",
    "accuracy, precision, recall, f1\n"
   ]
  },
  {
   "cell_type": "markdown",
   "id": "eaf7a510",
   "metadata": {},
   "source": [
    "# VIII. Visualizaciones\n",
    "\n",
    "Creación de gráficos para visualizar la matriz de confusión y otras métricas relevantes."
   ]
  },
  {
   "cell_type": "code",
   "execution_count": null,
   "id": "7048e6d6",
   "metadata": {},
   "outputs": [],
   "source": [
    "\n",
    "# Visualización de la Matriz de Confusión\n",
    "plt.figure(figsize=(10, 7))\n",
    "sns.heatmap(cm, annot=True, fmt='g')\n",
    "plt.title('Matriz de Confusión')\n",
    "plt.xlabel('Predicciones')\n",
    "plt.ylabel('Valores Reales')\n",
    "plt.show()\n"
   ]
  },
  {
   "cell_type": "markdown",
   "id": "0becc5ff",
   "metadata": {},
   "source": [
    "# IX. Detalles Matemáticos\n",
    "\n",
    "Explicación de los conceptos matemáticos involucrados en la ANN."
   ]
  },
  {
   "cell_type": "markdown",
   "id": "5015dc1d",
   "metadata": {},
   "source": [
    "\n",
    "La construcción de una Red Neuronal Artificial implica varios conceptos matemáticos clave:\n",
    "\n",
    "1. **Funciones de Activación**: Como 'relu' y 'sigmoid', determinan la salida de un nodo en la red. 'Relu' proporciona una salida lineal para entradas positivas y cero para entradas negativas. 'Sigmoid' convierte su entrada a un valor entre 0 y 1, lo que la hace adecuada para la salida en clasificaciones binarias.\n",
    "\n",
    "2. **Función de Pérdida**: 'binary_crossentropy' mide el rendimiento de la red en tareas de clasificación binaria, cuantificando la diferencia entre las salidas previstas y las reales.\n",
    "\n",
    "3. **Backpropagation**: Método para actualizar los pesos de la red de manera eficiente, minimizando la función de pérdida. Utiliza el algoritmo de descenso de gradiente para ajustar los pesos en dirección a la reducción del error.\n"
   ]
  }
 ],
 "metadata": {},
 "nbformat": 4,
 "nbformat_minor": 5
}
