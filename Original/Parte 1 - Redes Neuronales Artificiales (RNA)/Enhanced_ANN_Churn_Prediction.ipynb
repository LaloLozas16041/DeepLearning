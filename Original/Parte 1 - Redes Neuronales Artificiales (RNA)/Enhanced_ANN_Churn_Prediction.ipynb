{
 "cells": [
  {
   "cell_type": "markdown",
   "id": "437d3d53",
   "metadata": {},
   "source": [
    "# Red Neuronal Artificial (ANN) para Predecir la Rotación de Clientes"
   ]
  },
  {
   "cell_type": "code",
   "execution_count": null,
   "id": "01fa7881",
   "metadata": {},
   "outputs": [],
   "source": [
    "# Importando las bibliotecas necesarias\n",
    "import pandas as pd\n",
    "from sklearn.model_selection import train_test_split\n",
    "from sklearn.preprocessing import StandardScaler, OneHotEncoder\n",
    "from sklearn.compose import ColumnTransformer"
   ]
  },
  {
   "cell_type": "code",
   "execution_count": null,
   "id": "8c5b1545",
   "metadata": {},
   "outputs": [],
   "source": [
    "# Cargando los datos\n",
    "df = pd.read_csv('Churn_Modelling.csv')\n",
    "df.head()"
   ]
  },
  {
   "cell_type": "markdown",
   "id": "9e7de9c5",
   "metadata": {},
   "source": [
    "## Preprocesamiento de Datos\n",
    "\n",
    "- Eliminación de columnas no relevantes.\n",
    "- Codificación de variables categóricas.\n",
    "- División en conjuntos de entrenamiento y prueba.\n",
    "- Escalado de características."
   ]
  },
  {
   "cell_type": "code",
   "execution_count": null,
   "id": "fd8258f5",
   "metadata": {},
   "outputs": [],
   "source": [
    "\n",
    "# Eliminando columnas no relevantes\n",
    "df_processed = df.drop(['RowNumber', 'CustomerId', 'Surname'], axis=1)\n",
    "\n",
    "# Codificación one-hot para variables categóricas\n",
    "categorical_features = ['Geography', 'Gender']\n",
    "one_hot = OneHotEncoder()\n",
    "transformer = ColumnTransformer([(\"one_hot\", one_hot, categorical_features)], remainder='passthrough')\n",
    "transformed_X = transformer.fit_transform(df_processed)\n",
    "transformed_X = pd.DataFrame(transformed_X)\n",
    "\n",
    "# Separando la variable objetivo\n",
    "X = transformed_X.iloc[:, :-1].values\n",
    "y = df_processed['Exited'].values\n",
    "\n",
    "# Dividiendo los datos en conjuntos de entrenamiento y prueba\n",
    "X_train, X_test, y_train, y_test = train_test_split(X, y, test_size = 0.2, random_state = 42)\n",
    "\n",
    "# Escalando características\n",
    "scaler = StandardScaler()\n",
    "X_train = scaler.fit_transform(X_train)\n",
    "X_test = scaler.transform(X_test)\n"
   ]
  },
  {
   "cell_type": "markdown",
   "id": "a105734b",
   "metadata": {},
   "source": [
    "## Construyendo la Red Neuronal Artificial"
   ]
  },
  {
   "cell_type": "code",
   "execution_count": null,
   "id": "54446357",
   "metadata": {},
   "outputs": [],
   "source": [
    "\n",
    "from tensorflow.keras.models import Sequential\n",
    "from tensorflow.keras.layers import Dense\n",
    "\n",
    "# Inicializando la ANN\n",
    "ann = Sequential()\n",
    "\n",
    "# Añadiendo la capa de entrada y la primera capa oculta\n",
    "ann.add(Dense(units=6, activation='relu', input_shape=(X_train.shape[1],)))\n",
    "\n",
    "# Añadiendo la segunda capa oculta\n",
    "ann.add(Dense(units=6, activation='relu'))\n",
    "\n",
    "# Añadiendo la capa de salida\n",
    "ann.add(Dense(units=1, activation='sigmoid'))\n",
    "\n",
    "# Compilando la ANN\n",
    "ann.compile(optimizer='adam', loss='binary_crossentropy', metrics=['accuracy'])\n",
    "\n",
    "# Resumen del modelo\n",
    "ann.summary()\n"
   ]
  },
  {
   "cell_type": "markdown",
   "id": "dda1b56c",
   "metadata": {},
   "source": [
    "## Entrenando la Red Neuronal Artificial"
   ]
  },
  {
   "cell_type": "code",
   "execution_count": null,
   "id": "c9890dd9",
   "metadata": {},
   "outputs": [],
   "source": [
    "ann.fit(X_train, y_train, batch_size=32, epochs=100)"
   ]
  },
  {
   "cell_type": "markdown",
   "id": "f559038d",
   "metadata": {},
   "source": [
    "## Evaluación del Modelo y Visualizaciones\n",
    "\n",
    "- Evaluar el modelo con el conjunto de prueba.\n",
    "- Generar visualizaciones para entender el rendimiento del modelo."
   ]
  },
  {
   "cell_type": "markdown",
   "id": "0a1f486a",
   "metadata": {},
   "source": [
    "## Evaluación del Modelo y Métricas de Rendimiento\n",
    "\n",
    "- Evaluar el modelo con el conjunto de prueba.\n",
    "- Calcular métricas clave como precisión, recall y F1-score."
   ]
  },
  {
   "cell_type": "code",
   "execution_count": null,
   "id": "258abe63",
   "metadata": {},
   "outputs": [],
   "source": [
    "\n",
    "from sklearn.metrics import confusion_matrix, accuracy_score, precision_score, recall_score, f1_score\n",
    "\n",
    "# Predicciones del modelo\n",
    "y_pred = ann.predict(X_test)\n",
    "y_pred = (y_pred > 0.5)\n",
    "\n",
    "# Matriz de confusión\n",
    "cm = confusion_matrix(y_test, y_pred)\n",
    "\n",
    "# Cálculo de métricas\n",
    "accuracy = accuracy_score(y_test, y_pred)\n",
    "precision = precision_score(y_test, y_pred)\n",
    "recall = recall_score(y_test, y_pred)\n",
    "f1 = f1_score(y_test, y_pred)\n",
    "\n",
    "accuracy, precision, recall, f1\n"
   ]
  },
  {
   "cell_type": "markdown",
   "id": "f521adc8",
   "metadata": {},
   "source": [
    "## Visualizaciones\n",
    "\n",
    "- Crear gráficos para visualizar la matriz de confusión y otras métricas relevantes."
   ]
  },
  {
   "cell_type": "code",
   "execution_count": null,
   "id": "fcbaa892",
   "metadata": {},
   "outputs": [],
   "source": [
    "\n",
    "import matplotlib.pyplot as plt\n",
    "import seaborn as sns\n",
    "\n",
    "# Visualizando la matriz de confusión\n",
    "plt.figure(figsize=(10,7))\n",
    "sns.heatmap(cm, annot=True, fmt='g')\n",
    "plt.title('Matriz de Confusión')\n",
    "plt.xlabel('Predicciones')\n",
    "plt.ylabel('Valores Reales')\n",
    "plt.show()\n"
   ]
  },
  {
   "cell_type": "markdown",
   "id": "d89c6872",
   "metadata": {},
   "source": [
    "## Detalles Matemáticos\n",
    "\n",
    "- Explicación matemática de conceptos clave como la función de activación, la función de pérdida y el proceso de backpropagation."
   ]
  },
  {
   "cell_type": "markdown",
   "id": "5fbc537d",
   "metadata": {},
   "source": [
    "\n",
    "La construcción de una Red Neuronal Artificial implica varios conceptos matemáticos clave:\n",
    "\n",
    "1. **Funciones de Activación**: Como 'relu' y 'sigmoid', determinan la salida de un nodo en la red. 'Relu' proporciona una salida lineal para entradas positivas y cero para entradas negativas. 'Sigmoid' convierte su entrada a un valor entre 0 y 1, lo que la hace adecuada para la salida en clasificaciones binarias.\n",
    "\n",
    "2. **Función de Pérdida**: En este caso, 'binary_crossentropy' mide el rendimiento de la red en tareas de clasificación binaria. Cuantifica la diferencia entre las salidas previstas y las reales.\n",
    "\n",
    "3. **Backpropagation**: Es un método para actualizar los pesos de la red de manera eficiente, minimizando la función de pérdida. Utiliza el algoritmo de descenso de gradiente para ajustar los pesos en dirección a la reducción del error.\n"
   ]
  }
 ],
 "metadata": {},
 "nbformat": 4,
 "nbformat_minor": 5
}
