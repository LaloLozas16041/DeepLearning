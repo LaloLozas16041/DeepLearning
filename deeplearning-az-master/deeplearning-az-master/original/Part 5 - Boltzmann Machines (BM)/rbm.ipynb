{
  "nbformat": 4,
  "nbformat_minor": 0,
  "metadata": {
    "colab": {
      "name": "rbm.ipynb",
      "provenance": [],
      "toc_visible": true
    },
    "kernelspec": {
      "name": "python3",
      "display_name": "Python 3"
    },
    "accelerator": "GPU"
  },
  "cells": [
    {
      "cell_type": "markdown",
      "metadata": {
        "id": "ARJVTOSbuWCa",
        "colab_type": "text"
      },
      "source": [
        "#Máquinas de Boltzmann Restringidas"
      ]
    },
    {
      "cell_type": "markdown",
      "metadata": {
        "id": "j6YXqpKUvDuo",
        "colab_type": "text"
      },
      "source": [
        "# Instalamos pytorch"
      ]
    },
    {
      "cell_type": "code",
      "metadata": {
        "id": "2wGyGxkGucCr",
        "colab_type": "code",
        "colab": {}
      },
      "source": [
        "#pip install torch===1.6.0 torchvision===0.7.0 -f https://download.pytorch.org/whl/torch_stable.html"
      ],
      "execution_count": 1,
      "outputs": []
    },
    {
      "cell_type": "markdown",
      "metadata": {
        "id": "cICmNhmFun39",
        "colab_type": "text"
      },
      "source": [
        "# Clonamos el repositorio para obtener el dataset"
      ]
    },
    {
      "cell_type": "code",
      "metadata": {
        "id": "wHQH29tluo7d",
        "colab_type": "code",
        "colab": {
          "base_uri": "https://localhost:8080/",
          "height": 153
        },
        "outputId": "c453282d-2a54-442b-c60d-7370b392607a"
      },
      "source": [
        "!git clone https://github.com/joanby/deeplearning-az.git"
      ],
      "execution_count": 2,
      "outputs": [
        {
          "output_type": "stream",
          "text": [
            "Cloning into 'deeplearning-az'...\n",
            "remote: Enumerating objects: 57, done.\u001b[K\n",
            "remote: Counting objects:   1% (1/57)\u001b[K\rremote: Counting objects:   3% (2/57)\u001b[K\rremote: Counting objects:   5% (3/57)\u001b[K\rremote: Counting objects:   7% (4/57)\u001b[K\rremote: Counting objects:   8% (5/57)\u001b[K\rremote: Counting objects:  10% (6/57)\u001b[K\rremote: Counting objects:  12% (7/57)\u001b[K\rremote: Counting objects:  14% (8/57)\u001b[K\rremote: Counting objects:  15% (9/57)\u001b[K\rremote: Counting objects:  17% (10/57)\u001b[K\rremote: Counting objects:  19% (11/57)\u001b[K\rremote: Counting objects:  21% (12/57)\u001b[K\rremote: Counting objects:  22% (13/57)\u001b[K\rremote: Counting objects:  24% (14/57)\u001b[K\rremote: Counting objects:  26% (15/57)\u001b[K\rremote: Counting objects:  28% (16/57)\u001b[K\rremote: Counting objects:  29% (17/57)\u001b[K\rremote: Counting objects:  31% (18/57)\u001b[K\rremote: Counting objects:  33% (19/57)\u001b[K\rremote: Counting objects:  35% (20/57)\u001b[K\rremote: Counting objects:  36% (21/57)\u001b[K\rremote: Counting objects:  38% (22/57)\u001b[K\rremote: Counting objects:  40% (23/57)\u001b[K\rremote: Counting objects:  42% (24/57)\u001b[K\rremote: Counting objects:  43% (25/57)\u001b[K\rremote: Counting objects:  45% (26/57)\u001b[K\rremote: Counting objects:  47% (27/57)\u001b[K\rremote: Counting objects:  49% (28/57)\u001b[K\rremote: Counting objects:  50% (29/57)\u001b[K\rremote: Counting objects:  52% (30/57)\u001b[K\rremote: Counting objects:  54% (31/57)\u001b[K\rremote: Counting objects:  56% (32/57)\u001b[K\rremote: Counting objects:  57% (33/57)\u001b[K\rremote: Counting objects:  59% (34/57)\u001b[K\rremote: Counting objects:  61% (35/57)\u001b[K\rremote: Counting objects:  63% (36/57)\u001b[K\rremote: Counting objects:  64% (37/57)\u001b[K\rremote: Counting objects:  66% (38/57)\u001b[K\rremote: Counting objects:  68% (39/57)\u001b[K\rremote: Counting objects:  70% (40/57)\u001b[K\rremote: Counting objects:  71% (41/57)\u001b[K\rremote: Counting objects:  73% (42/57)\u001b[K\rremote: Counting objects:  75% (43/57)\u001b[K\rremote: Counting objects:  77% (44/57)\u001b[K\rremote: Counting objects:  78% (45/57)\u001b[K\rremote: Counting objects:  80% (46/57)\u001b[K\rremote: Counting objects:  82% (47/57)\u001b[K\rremote: Counting objects:  84% (48/57)\u001b[K\rremote: Counting objects:  85% (49/57)\u001b[K\rremote: Counting objects:  87% (50/57)\u001b[K\rremote: Counting objects:  89% (51/57)\u001b[K\rremote: Counting objects:  91% (52/57)\u001b[K\rremote: Counting objects:  92% (53/57)\u001b[K\rremote: Counting objects:  94% (54/57)\u001b[K\rremote: Counting objects:  96% (55/57)\u001b[K\rremote: Counting objects:  98% (56/57)\u001b[K\rremote: Counting objects: 100% (57/57)\u001b[K\rremote: Counting objects: 100% (57/57), done.\u001b[K\n",
            "remote: Compressing objects: 100% (41/41), done.\u001b[K\n",
            "remote: Total 10153 (delta 25), reused 39 (delta 16), pack-reused 10096\u001b[K\n",
            "Receiving objects: 100% (10153/10153), 236.95 MiB | 15.74 MiB/s, done.\n",
            "Resolving deltas: 100% (50/50), done.\n",
            "Checking out files: 100% (10108/10108), done.\n"
          ],
          "name": "stdout"
        }
      ]
    },
    {
      "cell_type": "code",
      "metadata": {
        "id": "yLnJi3RNuZF8",
        "colab_type": "code",
        "colab": {}
      },
      "source": [
        "# Importar las librerías\n",
        "import numpy as np\n",
        "import pandas as pd\n",
        "import torch\n",
        "import torch.nn as nn\n",
        "import torch.nn.parallel\n",
        "import torch.optim as optim\n",
        "import torch.utils.data\n",
        "from torch.autograd import Variable"
      ],
      "execution_count": 3,
      "outputs": []
    },
    {
      "cell_type": "code",
      "metadata": {
        "id": "wQdUNEVLuaYV",
        "colab_type": "code",
        "colab": {}
      },
      "source": [
        "from google.colab import drive\n",
        "drive.mount('/content/drive')"
      ],
      "execution_count": null,
      "outputs": []
    },
    {
      "cell_type": "markdown",
      "metadata": {
        "id": "UL5sXo36uwOt",
        "colab_type": "text"
      },
      "source": [
        "# Importar el dataset"
      ]
    },
    {
      "cell_type": "code",
      "metadata": {
        "id": "bb-oWK50uyV4",
        "colab_type": "code",
        "colab": {}
      },
      "source": [
        "movies = pd.read_csv(\"/content/deeplearning-az/datasets/Part 5 - Boltzmann Machines (BM)/ml-1m/movies.dat\", sep = '::', header = None, engine = 'python', encoding = 'latin-1')\n",
        "users  = pd.read_csv(\"/content/deeplearning-az/datasets/Part 5 - Boltzmann Machines (BM)/ml-1m/users.dat\", sep = '::', header = None, engine = 'python', encoding = 'latin-1')\n",
        "ratings  = pd.read_csv(\"/content/deeplearning-az/datasets/Part 5 - Boltzmann Machines (BM)/ml-1m/ratings.dat\", sep = '::', header = None, engine = 'python', encoding = 'latin-1')\n"
      ],
      "execution_count": 4,
      "outputs": []
    },
    {
      "cell_type": "markdown",
      "metadata": {
        "id": "A7MOlL4xvzPF",
        "colab_type": "text"
      },
      "source": [
        "# Preparar el conjunto de entrenamiento y elconjunto de testing"
      ]
    },
    {
      "cell_type": "code",
      "metadata": {
        "id": "frkm18WQv0tf",
        "colab_type": "code",
        "colab": {}
      },
      "source": [
        "training_set = pd.read_csv(\"/content/deeplearning-az/datasets/Part 5 - Boltzmann Machines (BM)/ml-100k/u1.base\", sep = \"\\t\", header = None)\n",
        "training_set = np.array(training_set, dtype = \"int\")\n",
        "test_set = pd.read_csv(\"/content/deeplearning-az/datasets/Part 5 - Boltzmann Machines (BM)/ml-100k/u1.test\", sep = \"\\t\", header = None)\n",
        "test_set = np.array(test_set, dtype = \"int\")"
      ],
      "execution_count": 5,
      "outputs": []
    },
    {
      "cell_type": "markdown",
      "metadata": {
        "id": "-IeQfD-bwE8K",
        "colab_type": "text"
      },
      "source": [
        "# Obtener el número de usuarios y de películas"
      ]
    },
    {
      "cell_type": "code",
      "metadata": {
        "id": "_9SXaa1ZwGKa",
        "colab_type": "code",
        "colab": {}
      },
      "source": [
        "nb_users = int(max(max(training_set[:, 0]), max(test_set[:,0])))\n",
        "nb_movies = int(max(max(training_set[:, 1]), max(test_set[:, 1])))"
      ],
      "execution_count": 6,
      "outputs": []
    },
    {
      "cell_type": "markdown",
      "metadata": {
        "id": "QixyuDRHxdDD",
        "colab_type": "text"
      },
      "source": [
        "# Convertir los datos en un array X[u,i] con usuarios u en fila y películas i en columna"
      ]
    },
    {
      "cell_type": "code",
      "metadata": {
        "id": "SHHL6CaJxkMM",
        "colab_type": "code",
        "colab": {}
      },
      "source": [
        "def convert(data):\n",
        "    new_data = []\n",
        "    for id_user in range(1, nb_users+1):\n",
        "        id_movies = data[:, 1][data[:, 0] == id_user]\n",
        "        id_ratings = data[:, 2][data[:, 0] == id_user]\n",
        "        ratings = np.zeros(nb_movies)\n",
        "        ratings[id_movies-1] = id_ratings\n",
        "        new_data.append(list(ratings))\n",
        "    return new_data"
      ],
      "execution_count": 7,
      "outputs": []
    },
    {
      "cell_type": "code",
      "metadata": {
        "id": "cLuyXa0Zxm9o",
        "colab_type": "code",
        "colab": {}
      },
      "source": [
        "training_set = convert(training_set)\n",
        "test_set = convert(test_set)"
      ],
      "execution_count": 8,
      "outputs": []
    },
    {
      "cell_type": "markdown",
      "metadata": {
        "id": "0nIyS995x0PE",
        "colab_type": "text"
      },
      "source": [
        "\n",
        "# Convertir los datos a tensores de Torch"
      ]
    },
    {
      "cell_type": "code",
      "metadata": {
        "id": "2JWlCORox0uf",
        "colab_type": "code",
        "colab": {}
      },
      "source": [
        "training_set = torch.FloatTensor(training_set)\n",
        "test_set = torch.FloatTensor(test_set)"
      ],
      "execution_count": 9,
      "outputs": []
    },
    {
      "cell_type": "markdown",
      "metadata": {
        "id": "zeleljVhx3mx",
        "colab_type": "text"
      },
      "source": [
        "# Convertir las valoraciones a valores binarios 1 (Me gusta) o 0 (No me gusta)"
      ]
    },
    {
      "cell_type": "code",
      "metadata": {
        "id": "vceBGxIVx5Qu",
        "colab_type": "code",
        "colab": {}
      },
      "source": [
        "training_set[training_set == 0] = -1\n",
        "training_set[training_set == 1] = 0\n",
        "training_set[training_set == 2] = 0\n",
        "training_set[training_set >= 3] = 1"
      ],
      "execution_count": 10,
      "outputs": []
    },
    {
      "cell_type": "code",
      "metadata": {
        "id": "1BeI34Q_x8o4",
        "colab_type": "code",
        "colab": {}
      },
      "source": [
        "test_set[test_set == 0] = -1\n",
        "test_set[test_set == 1] = 0\n",
        "test_set[test_set == 2] = 0\n",
        "test_set[test_set >= 3] = 1"
      ],
      "execution_count": 11,
      "outputs": []
    },
    {
      "cell_type": "markdown",
      "metadata": {
        "id": "alN1pOH1x_Az",
        "colab_type": "text"
      },
      "source": [
        "# Crear la arquitectura de la Red Neuronal (Modelo Probabilistico Gráfico)"
      ]
    },
    {
      "cell_type": "code",
      "metadata": {
        "id": "6WPiBsmwx_h-",
        "colab_type": "code",
        "colab": {}
      },
      "source": [
        "class RBM():\n",
        "    def __init__(self, nv, nh):\n",
        "        self.W = torch.randn(nh, nv)\n",
        "        self.a = torch.randn(1, nh)\n",
        "        self.b = torch.randn(1, nv)\n",
        "    def sample_h(self, x):           #x = mini_batch_size x nv\n",
        "        wx = torch.mm(x, self.W.t()) #mini_batch_size x nh\n",
        "        activation = wx + self.a.expand_as(wx)\n",
        "        p_h_given_v = torch.sigmoid(activation)\n",
        "        return p_h_given_v, torch.bernoulli(p_h_given_v)\n",
        "    def sample_v(self, y):           #y = mini_batch_size x nh\n",
        "        wy = torch.mm(y, self.W) #mini_batch_size x nv\n",
        "        activation = wy + self.b.expand_as(wy)\n",
        "        p_v_given_h = torch.sigmoid(activation)\n",
        "        return p_v_given_h, torch.bernoulli(p_v_given_h)   \n",
        "    def train(self, v0, vk, ph0, phk):\n",
        "        self.W += (torch.mm(v0.t(), ph0) - torch.mm(vk.t(), phk)).t()\n",
        "        self.b += torch.sum((v0 - vk), 0)\n",
        "        self.a += torch.sum((ph0 - phk), 0)"
      ],
      "execution_count": 12,
      "outputs": []
    },
    {
      "cell_type": "code",
      "metadata": {
        "id": "godGaYh9x__c",
        "colab_type": "code",
        "colab": {}
      },
      "source": [
        "nv = len(training_set[0])\n",
        "nh = 100\n",
        "batch_size = 100\n",
        "\n",
        "rbm = RBM(nv, nh)"
      ],
      "execution_count": 13,
      "outputs": []
    },
    {
      "cell_type": "markdown",
      "metadata": {
        "id": "eTXM23qRyHhu",
        "colab_type": "text"
      },
      "source": [
        "# Entrenar la RBM\n"
      ]
    },
    {
      "cell_type": "code",
      "metadata": {
        "id": "4mKKUQs5yExt",
        "colab_type": "code",
        "colab": {
          "base_uri": "https://localhost:8080/",
          "height": 187
        },
        "outputId": "95603e87-f89f-4d53-fe9c-1e133e5610bf"
      },
      "source": [
        "nb_epoch = 10\n",
        "for epoch in range(1, nb_epoch+1):\n",
        "    training_loss = 0\n",
        "    s = 0.\n",
        "    for id_user in range(0, nb_users - batch_size, batch_size):\n",
        "        vk = training_set[id_user:id_user+batch_size]\n",
        "        v0 = training_set[id_user:id_user+batch_size]\n",
        "        ph0,_ = rbm.sample_h(v0)\n",
        "        for k in range(10):\n",
        "            _,hk = rbm.sample_h(vk)\n",
        "            _,vk = rbm.sample_v(hk)\n",
        "            vk[v0 < 0] = v0[v0 < 0]\n",
        "        phk,_ = rbm.sample_h(vk)\n",
        "        rbm.train(v0, vk, ph0, phk)\n",
        "        training_loss += torch.mean(torch.abs(v0[v0>=0] - vk[v0>=0]))\n",
        "        s += 1.\n",
        "    print(\"Epoch: \"+str(epoch)+\", Loss: \"+str(training_loss/s))"
      ],
      "execution_count": 14,
      "outputs": [
        {
          "output_type": "stream",
          "text": [
            "Epoch: 1, Loss: tensor(0.3574)\n",
            "Epoch: 2, Loss: tensor(0.2614)\n",
            "Epoch: 3, Loss: tensor(0.2306)\n",
            "Epoch: 4, Loss: tensor(0.2481)\n",
            "Epoch: 5, Loss: tensor(0.2637)\n",
            "Epoch: 6, Loss: tensor(0.2278)\n",
            "Epoch: 7, Loss: tensor(0.2520)\n",
            "Epoch: 8, Loss: tensor(0.2434)\n",
            "Epoch: 9, Loss: tensor(0.2467)\n",
            "Epoch: 10, Loss: tensor(0.2458)\n"
          ],
          "name": "stdout"
        }
      ]
    },
    {
      "cell_type": "markdown",
      "metadata": {
        "id": "gUbXMjpsyMJg",
        "colab_type": "text"
      },
      "source": [
        "# Testear la RBM"
      ]
    },
    {
      "cell_type": "code",
      "metadata": {
        "id": "lPdWRxtLyKV2",
        "colab_type": "code",
        "colab": {
          "base_uri": "https://localhost:8080/",
          "height": 1000
        },
        "outputId": "8fac3d08-0f8e-412c-dc5d-8c8b12d2dd0b"
      },
      "source": [
        "testing_loss = 0\n",
        "s = 0.\n",
        "for id_user in range(nb_users):\n",
        "    v = training_set[id_user:id_user+1]\n",
        "    vt = test_set[id_user:id_user+1]\n",
        "    if len(vt[vt>=0]) > 0:\n",
        "        _,h = rbm.sample_h(v)\n",
        "        _,v = rbm.sample_v(h)\n",
        "        testing_loss += torch.mean(torch.abs(vt[vt>=0] - v[vt>=0]))\n",
        "        s += 1.\n",
        "        print(\"Testing Loss: \"+str(testing_loss/s))\n"
      ],
      "execution_count": 15,
      "outputs": [
        {
          "output_type": "stream",
          "text": [
            "Testing Loss: tensor(0.2701)\n",
            "Testing Loss: tensor(0.2714)\n",
            "Testing Loss: tensor(0.2963)\n",
            "Testing Loss: tensor(0.2472)\n",
            "Testing Loss: tensor(0.2621)\n",
            "Testing Loss: tensor(0.2431)\n",
            "Testing Loss: tensor(0.2370)\n",
            "Testing Loss: tensor(0.2117)\n",
            "Testing Loss: tensor(0.1993)\n",
            "Testing Loss: tensor(0.1927)\n",
            "Testing Loss: tensor(0.2051)\n",
            "Testing Loss: tensor(0.1976)\n",
            "Testing Loss: tensor(0.2070)\n",
            "Testing Loss: tensor(0.2060)\n",
            "Testing Loss: tensor(0.2225)\n",
            "Testing Loss: tensor(0.2165)\n",
            "Testing Loss: tensor(0.2234)\n",
            "Testing Loss: tensor(0.2167)\n",
            "Testing Loss: tensor(0.2105)\n",
            "Testing Loss: tensor(0.2227)\n",
            "Testing Loss: tensor(0.2297)\n",
            "Testing Loss: tensor(0.2349)\n",
            "Testing Loss: tensor(0.2316)\n",
            "Testing Loss: tensor(0.2297)\n",
            "Testing Loss: tensor(0.2237)\n",
            "Testing Loss: tensor(0.2254)\n",
            "Testing Loss: tensor(0.2319)\n",
            "Testing Loss: tensor(0.2299)\n",
            "Testing Loss: tensor(0.2341)\n",
            "Testing Loss: tensor(0.2337)\n",
            "Testing Loss: tensor(0.2386)\n",
            "Testing Loss: tensor(0.2361)\n",
            "Testing Loss: tensor(0.2410)\n",
            "Testing Loss: tensor(0.2369)\n",
            "Testing Loss: tensor(0.2444)\n",
            "Testing Loss: tensor(0.2427)\n",
            "Testing Loss: tensor(0.2402)\n",
            "Testing Loss: tensor(0.2452)\n",
            "Testing Loss: tensor(0.2474)\n",
            "Testing Loss: tensor(0.2470)\n",
            "Testing Loss: tensor(0.2468)\n",
            "Testing Loss: tensor(0.2464)\n",
            "Testing Loss: tensor(0.2454)\n",
            "Testing Loss: tensor(0.2459)\n",
            "Testing Loss: tensor(0.2451)\n",
            "Testing Loss: tensor(0.2425)\n",
            "Testing Loss: tensor(0.2397)\n",
            "Testing Loss: tensor(0.2366)\n",
            "Testing Loss: tensor(0.2422)\n",
            "Testing Loss: tensor(0.2446)\n",
            "Testing Loss: tensor(0.2426)\n",
            "Testing Loss: tensor(0.2416)\n",
            "Testing Loss: tensor(0.2402)\n",
            "Testing Loss: tensor(0.2400)\n",
            "Testing Loss: tensor(0.2422)\n",
            "Testing Loss: tensor(0.2417)\n",
            "Testing Loss: tensor(0.2442)\n",
            "Testing Loss: tensor(0.2435)\n",
            "Testing Loss: tensor(0.2441)\n",
            "Testing Loss: tensor(0.2415)\n",
            "Testing Loss: tensor(0.2485)\n",
            "Testing Loss: tensor(0.2492)\n",
            "Testing Loss: tensor(0.2499)\n",
            "Testing Loss: tensor(0.2490)\n",
            "Testing Loss: tensor(0.2486)\n",
            "Testing Loss: tensor(0.2484)\n",
            "Testing Loss: tensor(0.2472)\n",
            "Testing Loss: tensor(0.2481)\n",
            "Testing Loss: tensor(0.2461)\n",
            "Testing Loss: tensor(0.2471)\n",
            "Testing Loss: tensor(0.2463)\n",
            "Testing Loss: tensor(0.2452)\n",
            "Testing Loss: tensor(0.2449)\n",
            "Testing Loss: tensor(0.2438)\n",
            "Testing Loss: tensor(0.2455)\n",
            "Testing Loss: tensor(0.2455)\n",
            "Testing Loss: tensor(0.2435)\n",
            "Testing Loss: tensor(0.2422)\n",
            "Testing Loss: tensor(0.2414)\n",
            "Testing Loss: tensor(0.2400)\n",
            "Testing Loss: tensor(0.2410)\n",
            "Testing Loss: tensor(0.2420)\n",
            "Testing Loss: tensor(0.2434)\n",
            "Testing Loss: tensor(0.2420)\n",
            "Testing Loss: tensor(0.2411)\n",
            "Testing Loss: tensor(0.2412)\n",
            "Testing Loss: tensor(0.2415)\n",
            "Testing Loss: tensor(0.2410)\n",
            "Testing Loss: tensor(0.2418)\n",
            "Testing Loss: tensor(0.2407)\n",
            "Testing Loss: tensor(0.2388)\n",
            "Testing Loss: tensor(0.2387)\n",
            "Testing Loss: tensor(0.2381)\n",
            "Testing Loss: tensor(0.2382)\n",
            "Testing Loss: tensor(0.2385)\n",
            "Testing Loss: tensor(0.2372)\n",
            "Testing Loss: tensor(0.2355)\n",
            "Testing Loss: tensor(0.2358)\n",
            "Testing Loss: tensor(0.2359)\n",
            "Testing Loss: tensor(0.2368)\n",
            "Testing Loss: tensor(0.2385)\n",
            "Testing Loss: tensor(0.2397)\n",
            "Testing Loss: tensor(0.2387)\n",
            "Testing Loss: tensor(0.2407)\n",
            "Testing Loss: tensor(0.2397)\n",
            "Testing Loss: tensor(0.2382)\n",
            "Testing Loss: tensor(0.2391)\n",
            "Testing Loss: tensor(0.2387)\n",
            "Testing Loss: tensor(0.2392)\n",
            "Testing Loss: tensor(0.2408)\n",
            "Testing Loss: tensor(0.2409)\n",
            "Testing Loss: tensor(0.2416)\n",
            "Testing Loss: tensor(0.2412)\n",
            "Testing Loss: tensor(0.2408)\n",
            "Testing Loss: tensor(0.2407)\n",
            "Testing Loss: tensor(0.2408)\n",
            "Testing Loss: tensor(0.2401)\n",
            "Testing Loss: tensor(0.2390)\n",
            "Testing Loss: tensor(0.2384)\n",
            "Testing Loss: tensor(0.2378)\n",
            "Testing Loss: tensor(0.2379)\n",
            "Testing Loss: tensor(0.2383)\n",
            "Testing Loss: tensor(0.2374)\n",
            "Testing Loss: tensor(0.2371)\n",
            "Testing Loss: tensor(0.2378)\n",
            "Testing Loss: tensor(0.2388)\n",
            "Testing Loss: tensor(0.2402)\n",
            "Testing Loss: tensor(0.2402)\n",
            "Testing Loss: tensor(0.2425)\n",
            "Testing Loss: tensor(0.2421)\n",
            "Testing Loss: tensor(0.2407)\n",
            "Testing Loss: tensor(0.2389)\n",
            "Testing Loss: tensor(0.2390)\n",
            "Testing Loss: tensor(0.2401)\n",
            "Testing Loss: tensor(0.2398)\n",
            "Testing Loss: tensor(0.2405)\n",
            "Testing Loss: tensor(0.2394)\n",
            "Testing Loss: tensor(0.2382)\n",
            "Testing Loss: tensor(0.2373)\n",
            "Testing Loss: tensor(0.2369)\n",
            "Testing Loss: tensor(0.2378)\n",
            "Testing Loss: tensor(0.2377)\n",
            "Testing Loss: tensor(0.2375)\n",
            "Testing Loss: tensor(0.2372)\n",
            "Testing Loss: tensor(0.2381)\n",
            "Testing Loss: tensor(0.2365)\n",
            "Testing Loss: tensor(0.2356)\n",
            "Testing Loss: tensor(0.2357)\n",
            "Testing Loss: tensor(0.2365)\n",
            "Testing Loss: tensor(0.2368)\n",
            "Testing Loss: tensor(0.2369)\n",
            "Testing Loss: tensor(0.2364)\n",
            "Testing Loss: tensor(0.2382)\n",
            "Testing Loss: tensor(0.2377)\n",
            "Testing Loss: tensor(0.2397)\n",
            "Testing Loss: tensor(0.2385)\n",
            "Testing Loss: tensor(0.2383)\n",
            "Testing Loss: tensor(0.2380)\n",
            "Testing Loss: tensor(0.2390)\n",
            "Testing Loss: tensor(0.2392)\n",
            "Testing Loss: tensor(0.2411)\n",
            "Testing Loss: tensor(0.2413)\n",
            "Testing Loss: tensor(0.2398)\n",
            "Testing Loss: tensor(0.2398)\n",
            "Testing Loss: tensor(0.2403)\n",
            "Testing Loss: tensor(0.2413)\n",
            "Testing Loss: tensor(0.2429)\n",
            "Testing Loss: tensor(0.2438)\n",
            "Testing Loss: tensor(0.2423)\n",
            "Testing Loss: tensor(0.2426)\n",
            "Testing Loss: tensor(0.2425)\n",
            "Testing Loss: tensor(0.2417)\n",
            "Testing Loss: tensor(0.2414)\n",
            "Testing Loss: tensor(0.2416)\n",
            "Testing Loss: tensor(0.2410)\n",
            "Testing Loss: tensor(0.2405)\n",
            "Testing Loss: tensor(0.2400)\n",
            "Testing Loss: tensor(0.2400)\n",
            "Testing Loss: tensor(0.2404)\n",
            "Testing Loss: tensor(0.2406)\n",
            "Testing Loss: tensor(0.2429)\n",
            "Testing Loss: tensor(0.2431)\n",
            "Testing Loss: tensor(0.2439)\n",
            "Testing Loss: tensor(0.2436)\n",
            "Testing Loss: tensor(0.2428)\n",
            "Testing Loss: tensor(0.2431)\n",
            "Testing Loss: tensor(0.2425)\n",
            "Testing Loss: tensor(0.2428)\n",
            "Testing Loss: tensor(0.2423)\n",
            "Testing Loss: tensor(0.2429)\n",
            "Testing Loss: tensor(0.2425)\n",
            "Testing Loss: tensor(0.2426)\n",
            "Testing Loss: tensor(0.2428)\n",
            "Testing Loss: tensor(0.2432)\n",
            "Testing Loss: tensor(0.2437)\n",
            "Testing Loss: tensor(0.2438)\n",
            "Testing Loss: tensor(0.2442)\n",
            "Testing Loss: tensor(0.2442)\n",
            "Testing Loss: tensor(0.2444)\n",
            "Testing Loss: tensor(0.2442)\n",
            "Testing Loss: tensor(0.2450)\n",
            "Testing Loss: tensor(0.2459)\n",
            "Testing Loss: tensor(0.2454)\n",
            "Testing Loss: tensor(0.2452)\n",
            "Testing Loss: tensor(0.2444)\n",
            "Testing Loss: tensor(0.2459)\n",
            "Testing Loss: tensor(0.2459)\n",
            "Testing Loss: tensor(0.2463)\n",
            "Testing Loss: tensor(0.2476)\n",
            "Testing Loss: tensor(0.2475)\n",
            "Testing Loss: tensor(0.2478)\n",
            "Testing Loss: tensor(0.2478)\n",
            "Testing Loss: tensor(0.2476)\n",
            "Testing Loss: tensor(0.2472)\n",
            "Testing Loss: tensor(0.2469)\n",
            "Testing Loss: tensor(0.2469)\n",
            "Testing Loss: tensor(0.2470)\n",
            "Testing Loss: tensor(0.2461)\n",
            "Testing Loss: tensor(0.2468)\n",
            "Testing Loss: tensor(0.2472)\n",
            "Testing Loss: tensor(0.2470)\n",
            "Testing Loss: tensor(0.2478)\n",
            "Testing Loss: tensor(0.2484)\n",
            "Testing Loss: tensor(0.2486)\n",
            "Testing Loss: tensor(0.2482)\n",
            "Testing Loss: tensor(0.2474)\n",
            "Testing Loss: tensor(0.2467)\n",
            "Testing Loss: tensor(0.2468)\n",
            "Testing Loss: tensor(0.2484)\n",
            "Testing Loss: tensor(0.2486)\n",
            "Testing Loss: tensor(0.2487)\n",
            "Testing Loss: tensor(0.2484)\n",
            "Testing Loss: tensor(0.2477)\n",
            "Testing Loss: tensor(0.2479)\n",
            "Testing Loss: tensor(0.2472)\n",
            "Testing Loss: tensor(0.2474)\n",
            "Testing Loss: tensor(0.2465)\n",
            "Testing Loss: tensor(0.2466)\n",
            "Testing Loss: tensor(0.2462)\n",
            "Testing Loss: tensor(0.2461)\n",
            "Testing Loss: tensor(0.2455)\n",
            "Testing Loss: tensor(0.2449)\n",
            "Testing Loss: tensor(0.2447)\n",
            "Testing Loss: tensor(0.2452)\n",
            "Testing Loss: tensor(0.2455)\n",
            "Testing Loss: tensor(0.2460)\n",
            "Testing Loss: tensor(0.2457)\n",
            "Testing Loss: tensor(0.2457)\n",
            "Testing Loss: tensor(0.2457)\n",
            "Testing Loss: tensor(0.2457)\n",
            "Testing Loss: tensor(0.2452)\n",
            "Testing Loss: tensor(0.2446)\n",
            "Testing Loss: tensor(0.2444)\n",
            "Testing Loss: tensor(0.2446)\n",
            "Testing Loss: tensor(0.2453)\n",
            "Testing Loss: tensor(0.2454)\n",
            "Testing Loss: tensor(0.2448)\n",
            "Testing Loss: tensor(0.2457)\n",
            "Testing Loss: tensor(0.2452)\n",
            "Testing Loss: tensor(0.2461)\n",
            "Testing Loss: tensor(0.2459)\n",
            "Testing Loss: tensor(0.2462)\n",
            "Testing Loss: tensor(0.2459)\n",
            "Testing Loss: tensor(0.2458)\n",
            "Testing Loss: tensor(0.2459)\n",
            "Testing Loss: tensor(0.2455)\n",
            "Testing Loss: tensor(0.2452)\n",
            "Testing Loss: tensor(0.2456)\n",
            "Testing Loss: tensor(0.2458)\n",
            "Testing Loss: tensor(0.2456)\n",
            "Testing Loss: tensor(0.2455)\n",
            "Testing Loss: tensor(0.2450)\n",
            "Testing Loss: tensor(0.2452)\n",
            "Testing Loss: tensor(0.2453)\n",
            "Testing Loss: tensor(0.2452)\n",
            "Testing Loss: tensor(0.2453)\n",
            "Testing Loss: tensor(0.2448)\n",
            "Testing Loss: tensor(0.2442)\n",
            "Testing Loss: tensor(0.2445)\n",
            "Testing Loss: tensor(0.2446)\n",
            "Testing Loss: tensor(0.2461)\n",
            "Testing Loss: tensor(0.2461)\n",
            "Testing Loss: tensor(0.2461)\n",
            "Testing Loss: tensor(0.2461)\n",
            "Testing Loss: tensor(0.2455)\n",
            "Testing Loss: tensor(0.2457)\n",
            "Testing Loss: tensor(0.2453)\n",
            "Testing Loss: tensor(0.2451)\n",
            "Testing Loss: tensor(0.2455)\n",
            "Testing Loss: tensor(0.2455)\n",
            "Testing Loss: tensor(0.2458)\n",
            "Testing Loss: tensor(0.2454)\n",
            "Testing Loss: tensor(0.2459)\n",
            "Testing Loss: tensor(0.2459)\n",
            "Testing Loss: tensor(0.2461)\n",
            "Testing Loss: tensor(0.2461)\n",
            "Testing Loss: tensor(0.2459)\n",
            "Testing Loss: tensor(0.2455)\n",
            "Testing Loss: tensor(0.2455)\n",
            "Testing Loss: tensor(0.2455)\n",
            "Testing Loss: tensor(0.2456)\n",
            "Testing Loss: tensor(0.2469)\n",
            "Testing Loss: tensor(0.2472)\n",
            "Testing Loss: tensor(0.2469)\n",
            "Testing Loss: tensor(0.2470)\n",
            "Testing Loss: tensor(0.2468)\n",
            "Testing Loss: tensor(0.2467)\n",
            "Testing Loss: tensor(0.2464)\n",
            "Testing Loss: tensor(0.2464)\n",
            "Testing Loss: tensor(0.2458)\n",
            "Testing Loss: tensor(0.2457)\n",
            "Testing Loss: tensor(0.2454)\n",
            "Testing Loss: tensor(0.2457)\n",
            "Testing Loss: tensor(0.2461)\n",
            "Testing Loss: tensor(0.2457)\n",
            "Testing Loss: tensor(0.2453)\n",
            "Testing Loss: tensor(0.2448)\n",
            "Testing Loss: tensor(0.2450)\n",
            "Testing Loss: tensor(0.2443)\n",
            "Testing Loss: tensor(0.2443)\n",
            "Testing Loss: tensor(0.2440)\n",
            "Testing Loss: tensor(0.2435)\n",
            "Testing Loss: tensor(0.2432)\n",
            "Testing Loss: tensor(0.2427)\n",
            "Testing Loss: tensor(0.2427)\n",
            "Testing Loss: tensor(0.2426)\n",
            "Testing Loss: tensor(0.2428)\n",
            "Testing Loss: tensor(0.2429)\n",
            "Testing Loss: tensor(0.2426)\n",
            "Testing Loss: tensor(0.2424)\n",
            "Testing Loss: tensor(0.2425)\n",
            "Testing Loss: tensor(0.2426)\n",
            "Testing Loss: tensor(0.2428)\n",
            "Testing Loss: tensor(0.2427)\n",
            "Testing Loss: tensor(0.2430)\n",
            "Testing Loss: tensor(0.2433)\n",
            "Testing Loss: tensor(0.2440)\n",
            "Testing Loss: tensor(0.2436)\n",
            "Testing Loss: tensor(0.2435)\n",
            "Testing Loss: tensor(0.2433)\n",
            "Testing Loss: tensor(0.2435)\n",
            "Testing Loss: tensor(0.2437)\n",
            "Testing Loss: tensor(0.2436)\n",
            "Testing Loss: tensor(0.2433)\n",
            "Testing Loss: tensor(0.2433)\n",
            "Testing Loss: tensor(0.2434)\n",
            "Testing Loss: tensor(0.2434)\n",
            "Testing Loss: tensor(0.2437)\n",
            "Testing Loss: tensor(0.2446)\n",
            "Testing Loss: tensor(0.2442)\n",
            "Testing Loss: tensor(0.2446)\n",
            "Testing Loss: tensor(0.2443)\n",
            "Testing Loss: tensor(0.2443)\n",
            "Testing Loss: tensor(0.2441)\n",
            "Testing Loss: tensor(0.2434)\n",
            "Testing Loss: tensor(0.2437)\n",
            "Testing Loss: tensor(0.2432)\n",
            "Testing Loss: tensor(0.2436)\n",
            "Testing Loss: tensor(0.2434)\n",
            "Testing Loss: tensor(0.2430)\n",
            "Testing Loss: tensor(0.2427)\n",
            "Testing Loss: tensor(0.2432)\n",
            "Testing Loss: tensor(0.2436)\n",
            "Testing Loss: tensor(0.2429)\n",
            "Testing Loss: tensor(0.2428)\n",
            "Testing Loss: tensor(0.2430)\n",
            "Testing Loss: tensor(0.2429)\n",
            "Testing Loss: tensor(0.2433)\n",
            "Testing Loss: tensor(0.2438)\n",
            "Testing Loss: tensor(0.2438)\n",
            "Testing Loss: tensor(0.2434)\n",
            "Testing Loss: tensor(0.2437)\n",
            "Testing Loss: tensor(0.2436)\n",
            "Testing Loss: tensor(0.2438)\n",
            "Testing Loss: tensor(0.2440)\n",
            "Testing Loss: tensor(0.2437)\n",
            "Testing Loss: tensor(0.2441)\n",
            "Testing Loss: tensor(0.2440)\n",
            "Testing Loss: tensor(0.2438)\n",
            "Testing Loss: tensor(0.2437)\n",
            "Testing Loss: tensor(0.2439)\n",
            "Testing Loss: tensor(0.2440)\n",
            "Testing Loss: tensor(0.2441)\n",
            "Testing Loss: tensor(0.2439)\n",
            "Testing Loss: tensor(0.2440)\n",
            "Testing Loss: tensor(0.2444)\n",
            "Testing Loss: tensor(0.2445)\n",
            "Testing Loss: tensor(0.2441)\n",
            "Testing Loss: tensor(0.2438)\n",
            "Testing Loss: tensor(0.2441)\n",
            "Testing Loss: tensor(0.2440)\n",
            "Testing Loss: tensor(0.2440)\n",
            "Testing Loss: tensor(0.2442)\n",
            "Testing Loss: tensor(0.2445)\n",
            "Testing Loss: tensor(0.2441)\n",
            "Testing Loss: tensor(0.2440)\n",
            "Testing Loss: tensor(0.2441)\n",
            "Testing Loss: tensor(0.2440)\n",
            "Testing Loss: tensor(0.2439)\n",
            "Testing Loss: tensor(0.2443)\n",
            "Testing Loss: tensor(0.2444)\n",
            "Testing Loss: tensor(0.2440)\n",
            "Testing Loss: tensor(0.2442)\n",
            "Testing Loss: tensor(0.2448)\n",
            "Testing Loss: tensor(0.2455)\n",
            "Testing Loss: tensor(0.2454)\n",
            "Testing Loss: tensor(0.2452)\n",
            "Testing Loss: tensor(0.2458)\n",
            "Testing Loss: tensor(0.2461)\n",
            "Testing Loss: tensor(0.2459)\n",
            "Testing Loss: tensor(0.2453)\n",
            "Testing Loss: tensor(0.2448)\n",
            "Testing Loss: tensor(0.2444)\n",
            "Testing Loss: tensor(0.2446)\n",
            "Testing Loss: tensor(0.2440)\n",
            "Testing Loss: tensor(0.2440)\n",
            "Testing Loss: tensor(0.2443)\n",
            "Testing Loss: tensor(0.2442)\n",
            "Testing Loss: tensor(0.2436)\n",
            "Testing Loss: tensor(0.2436)\n",
            "Testing Loss: tensor(0.2434)\n",
            "Testing Loss: tensor(0.2435)\n",
            "Testing Loss: tensor(0.2436)\n",
            "Testing Loss: tensor(0.2436)\n",
            "Testing Loss: tensor(0.2441)\n",
            "Testing Loss: tensor(0.2437)\n",
            "Testing Loss: tensor(0.2438)\n",
            "Testing Loss: tensor(0.2435)\n",
            "Testing Loss: tensor(0.2437)\n",
            "Testing Loss: tensor(0.2431)\n",
            "Testing Loss: tensor(0.2425)\n",
            "Testing Loss: tensor(0.2428)\n",
            "Testing Loss: tensor(0.2428)\n",
            "Testing Loss: tensor(0.2430)\n",
            "Testing Loss: tensor(0.2432)\n",
            "Testing Loss: tensor(0.2432)\n",
            "Testing Loss: tensor(0.2431)\n",
            "Testing Loss: tensor(0.2437)\n",
            "Testing Loss: tensor(0.2432)\n",
            "Testing Loss: tensor(0.2426)\n",
            "Testing Loss: tensor(0.2428)\n",
            "Testing Loss: tensor(0.2430)\n",
            "Testing Loss: tensor(0.2443)\n",
            "Testing Loss: tensor(0.2438)\n",
            "Testing Loss: tensor(0.2434)\n",
            "Testing Loss: tensor(0.2429)\n",
            "Testing Loss: tensor(0.2429)\n",
            "Testing Loss: tensor(0.2428)\n",
            "Testing Loss: tensor(0.2439)\n",
            "Testing Loss: tensor(0.2440)\n",
            "Testing Loss: tensor(0.2438)\n",
            "Testing Loss: tensor(0.2438)\n",
            "Testing Loss: tensor(0.2433)\n",
            "Testing Loss: tensor(0.2433)\n",
            "Testing Loss: tensor(0.2433)\n",
            "Testing Loss: tensor(0.2428)\n",
            "Testing Loss: tensor(0.2444)\n",
            "Testing Loss: tensor(0.2439)\n",
            "Testing Loss: tensor(0.2455)\n"
          ],
          "name": "stdout"
        }
      ]
    }
  ]
}