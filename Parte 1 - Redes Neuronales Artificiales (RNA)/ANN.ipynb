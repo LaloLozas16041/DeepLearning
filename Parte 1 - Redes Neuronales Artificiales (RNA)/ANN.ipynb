{
  "cells": [
    {
      "cell_type": "markdown",
      "metadata": {
        "colab_type": "text",
        "id": "uab9OAbV8hYN"
      },
      "source": [
        "# 01.- Instalar dependencias"
      ]
    },
    {
      "cell_type": "code",
      "execution_count": 1,
      "metadata": {
        "colab": {
          "base_uri": "https://localhost:8080/",
          "height": 122
        },
        "colab_type": "code",
        "id": "qukjDgj98kE4",
        "outputId": "ee6f4ce5-2b77-433c-f2bc-29fead6c2ed4"
      },
      "outputs": [],
      "source": [
        "#!pip install sklearn"
      ]
    },
    {
      "cell_type": "markdown",
      "metadata": {
        "colab_type": "text",
        "id": "4_lCXxqObOEc"
      },
      "source": [
        "# 02.- Instalar Theano"
      ]
    },
    {
      "cell_type": "code",
      "execution_count": 2,
      "metadata": {
        "colab": {
          "base_uri": "https://localhost:8080/",
          "height": 258
        },
        "colab_type": "code",
        "id": "ZuKBi9yzbOEd",
        "outputId": "112c8e47-f2d3-4390-d8e4-2bbed8ff91bf"
      },
      "outputs": [],
      "source": [
        "#!pip install --upgrade --no-deps git+git://github.com/Theano/Theano.git"
      ]
    },
    {
      "cell_type": "markdown",
      "metadata": {
        "colab_type": "text",
        "id": "JQVWgYPgbOEg"
      },
      "source": [
        "# 03.- Instalar Tensorflow y Keras\n"
      ]
    },
    {
      "cell_type": "code",
      "execution_count": 3,
      "metadata": {
        "colab": {
          "base_uri": "https://localhost:8080/",
          "height": 768
        },
        "colab_type": "code",
        "id": "lQlELtH5bOEg",
        "outputId": "430a74ac-094d-4a8b-935c-7dd333751fe8"
      },
      "outputs": [],
      "source": [
        "#!pip install keras\n",
        "#!pip install tensorflow"
      ]
    },
    {
      "cell_type": "markdown",
      "metadata": {
        "colab_type": "text",
        "id": "3yFpBwmNz70v"
      },
      "source": [
        "# 04.- Redes Neuronales Artificales"
      ]
    },
    {
      "cell_type": "markdown",
      "metadata": {
        "colab_type": "text",
        "id": "v8OxSXXSz-OP"
      },
      "source": [
        "# a.- Cómo importar las librerías\n"
      ]
    },
    {
      "cell_type": "code",
      "execution_count": 4,
      "metadata": {
        "colab": {},
        "colab_type": "code",
        "id": "edZX51YLzs59"
      },
      "outputs": [],
      "source": [
        "import numpy as np\n",
        "import matplotlib.pyplot as plt\n",
        "import pandas as pd"
      ]
    },
    {
      "cell_type": "markdown",
      "metadata": {
        "colab_type": "text",
        "id": "8XfXlqtF0B58"
      },
      "source": [
        "# b.- Importar el data set\n"
      ]
    },
    {
      "cell_type": "code",
      "execution_count": 5,
      "metadata": {
        "colab": {},
        "colab_type": "code",
        "id": "-nnozsHsz_-N"
      },
      "outputs": [],
      "source": [
        "dataset = pd.read_csv('Churn_Modelling.csv')\n",
        "X = dataset.iloc[:, 3:13].values\n",
        "y = dataset.iloc[:, 13].values"
      ]
    },
    {
      "cell_type": "markdown",
      "metadata": {
        "colab_type": "text",
        "id": "xtzD5VD4bOEn"
      },
      "source": [
        "# Parte 1 - Pre procesado de datos"
      ]
    },
    {
      "cell_type": "markdown",
      "metadata": {
        "colab_type": "text",
        "id": "SsVEdPzf4XmV"
      },
      "source": [
        "# Codificar datos categóricos"
      ]
    },
    {
      "cell_type": "code",
      "execution_count": 6,
      "metadata": {
        "colab": {},
        "colab_type": "code",
        "id": "v9CtwK834bjy"
      },
      "outputs": [],
      "source": [
        "from sklearn.preprocessing import LabelEncoder, OneHotEncoder\n",
        "from sklearn.compose import ColumnTransformer\n",
        "\n",
        "labelencoder_X_1 = LabelEncoder()\n",
        "X[:, 1] = labelencoder_X_1.fit_transform(X[:, 1])\n",
        "labelencoder_X_2 = LabelEncoder()\n",
        "X[:, 2] = labelencoder_X_2.fit_transform(X[:, 2])\n",
        "onehotencoder = ColumnTransformer(\n",
        "    [('one_hot_encoder', OneHotEncoder(categories='auto'), [1])],   \n",
        "    remainder='passthrough'                        \n",
        ")\n",
        "X = onehotencoder.fit_transform(X)\n",
        "X = X[:, 1:]"
      ]
    },
    {
      "cell_type": "markdown",
      "metadata": {
        "colab_type": "text",
        "id": "5AH_uCEz68rb"
      },
      "source": [
        "# Dividir el data set en conjunto de entrenamiento y conjunto de testing"
      ]
    },
    {
      "cell_type": "code",
      "execution_count": 7,
      "metadata": {
        "colab": {},
        "colab_type": "code",
        "id": "oeuAy8LI69vi"
      },
      "outputs": [],
      "source": [
        "from sklearn.model_selection import train_test_split\n",
        "X_train, X_test, y_train, y_test = train_test_split(X, y, test_size = 0.2, random_state = 0)"
      ]
    },
    {
      "cell_type": "markdown",
      "metadata": {
        "colab_type": "text",
        "id": "sfzLXHPwbOEt"
      },
      "source": [
        "# Escalado de variables"
      ]
    },
    {
      "cell_type": "code",
      "execution_count": 8,
      "metadata": {
        "colab": {},
        "colab_type": "code",
        "id": "8m2LCgz8bOEt"
      },
      "outputs": [],
      "source": [
        "from sklearn.preprocessing import StandardScaler\n",
        "sc_X = StandardScaler()\n",
        "X_train = sc_X.fit_transform(X_train)\n",
        "X_test = sc_X.transform(X_test)"
      ]
    },
    {
      "cell_type": "markdown",
      "metadata": {
        "colab_type": "text",
        "id": "cgweTaJ67BOB"
      },
      "source": [
        "# Parte 2 - Construir la RNA"
      ]
    },
    {
      "cell_type": "markdown",
      "metadata": {
        "colab_type": "text",
        "id": "tm4Hg995bOEw"
      },
      "source": [
        "# Importar Keras y librerías adicionales\n"
      ]
    },
    {
      "cell_type": "code",
      "execution_count": 9,
      "metadata": {
        "colab": {},
        "colab_type": "code",
        "id": "HLEt5ni_bOEw"
      },
      "outputs": [],
      "source": [
        "import keras\n",
        "from keras.models import Sequential\n",
        "from keras.layers import Dense"
      ]
    },
    {
      "cell_type": "markdown",
      "metadata": {
        "colab_type": "text",
        "id": "ezfPlyegbOEy"
      },
      "source": [
        "# Inicializar la RNA"
      ]
    },
    {
      "cell_type": "code",
      "execution_count": 10,
      "metadata": {
        "colab": {},
        "colab_type": "code",
        "id": "zRmQjNVzbOEz"
      },
      "outputs": [],
      "source": [
        "classifier = Sequential()"
      ]
    },
    {
      "cell_type": "markdown",
      "metadata": {
        "colab_type": "text",
        "id": "ML7H-iqsbOE1"
      },
      "source": [
        "# Añadir las capas de entrada y primera capa oculta\n"
      ]
    },
    {
      "cell_type": "code",
      "execution_count": 11,
      "metadata": {
        "colab": {},
        "colab_type": "code",
        "id": "amkkZxnebOE1"
      },
      "outputs": [],
      "source": [
        "classifier.add(Dense(units = 6, kernel_initializer = \"uniform\",  \n",
        "                     activation = \"relu\", input_dim = 11))"
      ]
    },
    {
      "cell_type": "markdown",
      "metadata": {
        "colab_type": "text",
        "id": "xKoC5UOwbOE3"
      },
      "source": [
        "# Añadir la segunda capa oculta"
      ]
    },
    {
      "cell_type": "code",
      "execution_count": 12,
      "metadata": {
        "colab": {},
        "colab_type": "code",
        "id": "ZTDhh_JibOE3"
      },
      "outputs": [],
      "source": [
        "classifier.add(Dense(units = 6, kernel_initializer = \"uniform\",  activation = \"relu\"))"
      ]
    },
    {
      "cell_type": "markdown",
      "metadata": {
        "colab_type": "text",
        "id": "wvUfptEtbOE5"
      },
      "source": [
        "# Añadir la capa de salida"
      ]
    },
    {
      "cell_type": "code",
      "execution_count": 13,
      "metadata": {
        "colab": {},
        "colab_type": "code",
        "id": "6C2x9RUGbOE5"
      },
      "outputs": [],
      "source": [
        "classifier.add(Dense(units = 1, kernel_initializer = \"uniform\",  activation = \"sigmoid\"))"
      ]
    },
    {
      "cell_type": "markdown",
      "metadata": {
        "colab_type": "text",
        "id": "_Je4JFqsbOE7"
      },
      "source": [
        "# Compilar la RNA"
      ]
    },
    {
      "cell_type": "code",
      "execution_count": 14,
      "metadata": {
        "colab": {},
        "colab_type": "code",
        "id": "f89xXBswbOE7"
      },
      "outputs": [],
      "source": [
        "classifier.compile(optimizer = \"adam\", loss = \"binary_crossentropy\", metrics = [\"accuracy\"])"
      ]
    },
    {
      "cell_type": "markdown",
      "metadata": {
        "colab_type": "text",
        "id": "Dr34zpQrbOE9"
      },
      "source": [
        "# Ajustamos la RNA al Conjunto de Entrenamiento"
      ]
    },
    {
      "cell_type": "code",
      "execution_count": 15,
      "metadata": {
        "colab": {
          "base_uri": "https://localhost:8080/",
          "height": 1000
        },
        "colab_type": "code",
        "id": "bwNUtZp7bOE9",
        "outputId": "d21731d6-ef82-47ed-bf24-1b22d0df0b4e"
      },
      "outputs": [
        {
          "name": "stdout",
          "output_type": "stream",
          "text": [
            "Epoch 1/100\n"
          ]
        },
        {
          "name": "stdout",
          "output_type": "stream",
          "text": [
            "800/800 [==============================] - 10s 9ms/step - loss: 0.4821 - accuracy: 0.7959\n",
            "Epoch 2/100\n",
            "800/800 [==============================] - 6s 8ms/step - loss: 0.4266 - accuracy: 0.7960\n",
            "Epoch 3/100\n",
            "800/800 [==============================] - 6s 8ms/step - loss: 0.4210 - accuracy: 0.7989\n",
            "Epoch 4/100\n",
            "800/800 [==============================] - 6s 8ms/step - loss: 0.4176 - accuracy: 0.8245\n",
            "Epoch 5/100\n",
            "800/800 [==============================] - 6s 8ms/step - loss: 0.4154 - accuracy: 0.8271\n",
            "Epoch 6/100\n",
            "800/800 [==============================] - 6s 8ms/step - loss: 0.4144 - accuracy: 0.8304\n",
            "Epoch 7/100\n",
            "800/800 [==============================] - 6s 8ms/step - loss: 0.4128 - accuracy: 0.8314\n",
            "Epoch 8/100\n",
            "800/800 [==============================] - 6s 8ms/step - loss: 0.4114 - accuracy: 0.8331\n",
            "Epoch 9/100\n",
            "800/800 [==============================] - 6s 8ms/step - loss: 0.4106 - accuracy: 0.8329\n",
            "Epoch 10/100\n",
            "800/800 [==============================] - 6s 8ms/step - loss: 0.4098 - accuracy: 0.8317\n",
            "Epoch 11/100\n",
            "800/800 [==============================] - 6s 8ms/step - loss: 0.4089 - accuracy: 0.8319\n",
            "Epoch 12/100\n",
            "800/800 [==============================] - 6s 8ms/step - loss: 0.4083 - accuracy: 0.8325\n",
            "Epoch 13/100\n",
            "800/800 [==============================] - 6s 8ms/step - loss: 0.4072 - accuracy: 0.8340\n",
            "Epoch 14/100\n",
            "800/800 [==============================] - 7s 8ms/step - loss: 0.4075 - accuracy: 0.8350\n",
            "Epoch 15/100\n",
            "800/800 [==============================] - 6s 7ms/step - loss: 0.4065 - accuracy: 0.8330\n",
            "Epoch 16/100\n",
            "800/800 [==============================] - 6s 7ms/step - loss: 0.4066 - accuracy: 0.8345\n",
            "Epoch 17/100\n",
            "800/800 [==============================] - 3s 4ms/step - loss: 0.4056 - accuracy: 0.8342\n",
            "Epoch 18/100\n",
            "800/800 [==============================] - 3s 4ms/step - loss: 0.4052 - accuracy: 0.8354\n",
            "Epoch 19/100\n",
            "800/800 [==============================] - 3s 4ms/step - loss: 0.4042 - accuracy: 0.8334\n",
            "Epoch 20/100\n",
            "800/800 [==============================] - 4s 5ms/step - loss: 0.4031 - accuracy: 0.8356\n",
            "Epoch 21/100\n",
            "800/800 [==============================] - 4s 5ms/step - loss: 0.4019 - accuracy: 0.8349\n",
            "Epoch 22/100\n",
            "800/800 [==============================] - 4s 5ms/step - loss: 0.4006 - accuracy: 0.8347\n",
            "Epoch 23/100\n",
            "800/800 [==============================] - 3s 4ms/step - loss: 0.4005 - accuracy: 0.8365\n",
            "Epoch 24/100\n",
            "800/800 [==============================] - 3s 4ms/step - loss: 0.3996 - accuracy: 0.8349\n",
            "Epoch 25/100\n",
            "800/800 [==============================] - 4s 5ms/step - loss: 0.3987 - accuracy: 0.8364\n",
            "Epoch 26/100\n",
            "800/800 [==============================] - 4s 4ms/step - loss: 0.3985 - accuracy: 0.8344\n",
            "Epoch 27/100\n",
            "800/800 [==============================] - 3s 4ms/step - loss: 0.3974 - accuracy: 0.8361\n",
            "Epoch 28/100\n",
            "800/800 [==============================] - 3s 4ms/step - loss: 0.3974 - accuracy: 0.8363\n",
            "Epoch 29/100\n",
            "800/800 [==============================] - 5s 6ms/step - loss: 0.3967 - accuracy: 0.8366\n",
            "Epoch 30/100\n",
            "800/800 [==============================] - 5s 6ms/step - loss: 0.3972 - accuracy: 0.8349\n",
            "Epoch 31/100\n",
            "800/800 [==============================] - 3s 4ms/step - loss: 0.3966 - accuracy: 0.8366\n",
            "Epoch 32/100\n",
            "800/800 [==============================] - 3s 4ms/step - loss: 0.3963 - accuracy: 0.8356\n",
            "Epoch 33/100\n",
            "800/800 [==============================] - 3s 4ms/step - loss: 0.3963 - accuracy: 0.8350\n",
            "Epoch 34/100\n",
            "800/800 [==============================] - 3s 4ms/step - loss: 0.3954 - accuracy: 0.8356\n",
            "Epoch 35/100\n",
            "800/800 [==============================] - 5s 7ms/step - loss: 0.3959 - accuracy: 0.8363\n",
            "Epoch 36/100\n",
            "800/800 [==============================] - 5s 7ms/step - loss: 0.3957 - accuracy: 0.8349\n",
            "Epoch 37/100\n",
            "800/800 [==============================] - 6s 7ms/step - loss: 0.3958 - accuracy: 0.8366\n",
            "Epoch 38/100\n",
            "800/800 [==============================] - 6s 8ms/step - loss: 0.3953 - accuracy: 0.8365\n",
            "Epoch 39/100\n",
            "800/800 [==============================] - 6s 8ms/step - loss: 0.3958 - accuracy: 0.8369\n",
            "Epoch 40/100\n",
            "800/800 [==============================] - 6s 7ms/step - loss: 0.3947 - accuracy: 0.8341\n",
            "Epoch 41/100\n",
            "800/800 [==============================] - 6s 8ms/step - loss: 0.3952 - accuracy: 0.8345\n",
            "Epoch 42/100\n",
            "800/800 [==============================] - 6s 8ms/step - loss: 0.3949 - accuracy: 0.8356\n",
            "Epoch 43/100\n",
            "800/800 [==============================] - 6s 7ms/step - loss: 0.3953 - accuracy: 0.8341\n",
            "Epoch 44/100\n",
            "800/800 [==============================] - 4s 5ms/step - loss: 0.3946 - accuracy: 0.8353\n",
            "Epoch 45/100\n",
            "800/800 [==============================] - 3s 4ms/step - loss: 0.3948 - accuracy: 0.8345\n",
            "Epoch 46/100\n",
            "800/800 [==============================] - 3s 3ms/step - loss: 0.3944 - accuracy: 0.8355\n",
            "Epoch 47/100\n",
            "800/800 [==============================] - 3s 4ms/step - loss: 0.3944 - accuracy: 0.8359\n",
            "Epoch 48/100\n",
            "800/800 [==============================] - 3s 3ms/step - loss: 0.3950 - accuracy: 0.8332\n",
            "Epoch 49/100\n",
            "800/800 [==============================] - 3s 4ms/step - loss: 0.3940 - accuracy: 0.8356\n",
            "Epoch 50/100\n",
            "800/800 [==============================] - 3s 3ms/step - loss: 0.3946 - accuracy: 0.8356\n",
            "Epoch 51/100\n",
            "800/800 [==============================] - 3s 3ms/step - loss: 0.3945 - accuracy: 0.8363\n",
            "Epoch 52/100\n",
            "800/800 [==============================] - 3s 4ms/step - loss: 0.3940 - accuracy: 0.8355\n",
            "Epoch 53/100\n",
            "800/800 [==============================] - 4s 5ms/step - loss: 0.3938 - accuracy: 0.8338\n",
            "Epoch 54/100\n",
            "800/800 [==============================] - 6s 8ms/step - loss: 0.3938 - accuracy: 0.8357\n",
            "Epoch 55/100\n",
            "800/800 [==============================] - 6s 8ms/step - loss: 0.3941 - accuracy: 0.8355\n",
            "Epoch 56/100\n",
            "800/800 [==============================] - 6s 7ms/step - loss: 0.3942 - accuracy: 0.8351\n",
            "Epoch 57/100\n",
            "800/800 [==============================] - 6s 8ms/step - loss: 0.3937 - accuracy: 0.8351\n",
            "Epoch 58/100\n",
            "800/800 [==============================] - 6s 8ms/step - loss: 0.3943 - accuracy: 0.8344\n",
            "Epoch 59/100\n",
            "800/800 [==============================] - 6s 8ms/step - loss: 0.3941 - accuracy: 0.8365\n",
            "Epoch 60/100\n",
            "800/800 [==============================] - 6s 7ms/step - loss: 0.3936 - accuracy: 0.8351\n",
            "Epoch 61/100\n",
            "800/800 [==============================] - 6s 7ms/step - loss: 0.3938 - accuracy: 0.8363\n",
            "Epoch 62/100\n",
            "800/800 [==============================] - 6s 7ms/step - loss: 0.3939 - accuracy: 0.8353\n",
            "Epoch 63/100\n",
            "800/800 [==============================] - 6s 7ms/step - loss: 0.3935 - accuracy: 0.8353\n",
            "Epoch 64/100\n",
            "800/800 [==============================] - 6s 8ms/step - loss: 0.3934 - accuracy: 0.8350\n",
            "Epoch 65/100\n",
            "800/800 [==============================] - 7s 8ms/step - loss: 0.3934 - accuracy: 0.8355\n",
            "Epoch 66/100\n",
            "800/800 [==============================] - 6s 8ms/step - loss: 0.3931 - accuracy: 0.8359\n",
            "Epoch 67/100\n",
            "800/800 [==============================] - 6s 7ms/step - loss: 0.3927 - accuracy: 0.8372\n",
            "Epoch 68/100\n",
            "800/800 [==============================] - 7s 8ms/step - loss: 0.3930 - accuracy: 0.8359\n",
            "Epoch 69/100\n",
            "800/800 [==============================] - 6s 8ms/step - loss: 0.3933 - accuracy: 0.8354\n",
            "Epoch 70/100\n",
            "800/800 [==============================] - 5s 6ms/step - loss: 0.3927 - accuracy: 0.8363\n",
            "Epoch 71/100\n",
            "800/800 [==============================] - 3s 4ms/step - loss: 0.3926 - accuracy: 0.8353\n",
            "Epoch 72/100\n",
            "800/800 [==============================] - 3s 4ms/step - loss: 0.3931 - accuracy: 0.8365\n",
            "Epoch 73/100\n",
            "800/800 [==============================] - 3s 4ms/step - loss: 0.3923 - accuracy: 0.8360\n",
            "Epoch 74/100\n",
            "800/800 [==============================] - 6s 8ms/step - loss: 0.3931 - accuracy: 0.8339\n",
            "Epoch 75/100\n",
            "800/800 [==============================] - 5s 7ms/step - loss: 0.3926 - accuracy: 0.8344\n",
            "Epoch 76/100\n",
            "800/800 [==============================] - 5s 7ms/step - loss: 0.3926 - accuracy: 0.8356\n",
            "Epoch 77/100\n",
            "800/800 [==============================] - 5s 6ms/step - loss: 0.3925 - accuracy: 0.8357\n",
            "Epoch 78/100\n",
            "800/800 [==============================] - 5s 6ms/step - loss: 0.3926 - accuracy: 0.8374\n",
            "Epoch 79/100\n",
            "800/800 [==============================] - 3s 4ms/step - loss: 0.3921 - accuracy: 0.8369\n",
            "Epoch 80/100\n",
            "800/800 [==============================] - 2s 3ms/step - loss: 0.3920 - accuracy: 0.8376\n",
            "Epoch 81/100\n",
            "800/800 [==============================] - 3s 3ms/step - loss: 0.3923 - accuracy: 0.8365\n",
            "Epoch 82/100\n",
            "800/800 [==============================] - 3s 4ms/step - loss: 0.3918 - accuracy: 0.8369\n",
            "Epoch 83/100\n",
            "800/800 [==============================] - 3s 4ms/step - loss: 0.3920 - accuracy: 0.8378\n",
            "Epoch 84/100\n",
            "800/800 [==============================] - 3s 3ms/step - loss: 0.3921 - accuracy: 0.8369\n",
            "Epoch 85/100\n",
            "800/800 [==============================] - 3s 3ms/step - loss: 0.3916 - accuracy: 0.8369\n",
            "Epoch 86/100\n",
            "800/800 [==============================] - 3s 3ms/step - loss: 0.3916 - accuracy: 0.8346\n",
            "Epoch 87/100\n",
            "800/800 [==============================] - 3s 3ms/step - loss: 0.3918 - accuracy: 0.8372\n",
            "Epoch 88/100\n",
            "800/800 [==============================] - 3s 4ms/step - loss: 0.3916 - accuracy: 0.8375\n",
            "Epoch 89/100\n",
            "800/800 [==============================] - 3s 3ms/step - loss: 0.3912 - accuracy: 0.8393\n",
            "Epoch 90/100\n",
            "800/800 [==============================] - 3s 3ms/step - loss: 0.3903 - accuracy: 0.8382\n",
            "Epoch 91/100\n",
            "800/800 [==============================] - 3s 3ms/step - loss: 0.3896 - accuracy: 0.8385\n",
            "Epoch 92/100\n",
            "800/800 [==============================] - 2s 3ms/step - loss: 0.3877 - accuracy: 0.8404\n",
            "Epoch 93/100\n",
            "800/800 [==============================] - 3s 3ms/step - loss: 0.3841 - accuracy: 0.8419\n",
            "Epoch 94/100\n",
            "800/800 [==============================] - 3s 3ms/step - loss: 0.3793 - accuracy: 0.8431\n",
            "Epoch 95/100\n",
            "800/800 [==============================] - 3s 3ms/step - loss: 0.3718 - accuracy: 0.8453\n",
            "Epoch 96/100\n",
            "800/800 [==============================] - 3s 3ms/step - loss: 0.3662 - accuracy: 0.8484\n",
            "Epoch 97/100\n",
            "800/800 [==============================] - 3s 3ms/step - loss: 0.3596 - accuracy: 0.8503\n",
            "Epoch 98/100\n",
            "800/800 [==============================] - 3s 3ms/step - loss: 0.3541 - accuracy: 0.8520\n",
            "Epoch 99/100\n",
            "800/800 [==============================] - 3s 3ms/step - loss: 0.3504 - accuracy: 0.8570\n",
            "Epoch 100/100\n",
            "800/800 [==============================] - 3s 3ms/step - loss: 0.3482 - accuracy: 0.8561\n"
          ]
        },
        {
          "data": {
            "text/plain": [
              "<keras.src.callbacks.History at 0x2a182de9e20>"
            ]
          },
          "execution_count": 15,
          "metadata": {},
          "output_type": "execute_result"
        }
      ],
      "source": [
        "classifier.fit(X_train, y_train,  batch_size = 10, epochs = 100)"
      ]
    },
    {
      "cell_type": "markdown",
      "metadata": {
        "colab_type": "text",
        "id": "jsUJ7kBnbOE_"
      },
      "source": [
        "# Parte 3 - Evaluar el modelo y calcular predicciones finales"
      ]
    },
    {
      "cell_type": "markdown",
      "metadata": {
        "colab_type": "text",
        "id": "7ZWV9kiBbOFA"
      },
      "source": [
        "# Predicción de los resultados con el Conjunto de Testing"
      ]
    },
    {
      "cell_type": "code",
      "execution_count": 16,
      "metadata": {
        "colab": {},
        "colab_type": "code",
        "id": "XVzX_pIhbOFA"
      },
      "outputs": [
        {
          "name": "stdout",
          "output_type": "stream",
          "text": [
            "63/63 [==============================] - 0s 3ms/step\n"
          ]
        }
      ],
      "source": [
        "y_pred  = classifier.predict(X_test)\n",
        "y_pred = (y_pred>0.5)"
      ]
    },
    {
      "cell_type": "markdown",
      "metadata": {
        "colab_type": "text",
        "id": "W0R6AD0bbOFD"
      },
      "source": [
        "# Elaborar una matriz de confusión"
      ]
    },
    {
      "cell_type": "code",
      "execution_count": 17,
      "metadata": {
        "colab": {},
        "colab_type": "code",
        "id": "cv-193GvbOFD"
      },
      "outputs": [],
      "source": [
        "from sklearn.metrics import confusion_matrix\n",
        "cm = confusion_matrix(y_test, y_pred)"
      ]
    },
    {
      "cell_type": "markdown",
      "metadata": {
        "colab_type": "text",
        "id": "3qBAu2KobrIh"
      },
      "source": [
        "## Parte 4 - Evaluar, mejorar y Ajustar la RNA\n"
      ]
    },
    {
      "cell_type": "markdown",
      "metadata": {
        "colab_type": "text",
        "id": "E3by0rPFbuM3"
      },
      "source": [
        "### Evaluar la **RNA**\n"
      ]
    },
    {
      "cell_type": "code",
      "execution_count": 18,
      "metadata": {},
      "outputs": [
        {
          "ename": "ModuleNotFoundError",
          "evalue": "No module named 'keras.wrappers'",
          "output_type": "error",
          "traceback": [
            "\u001b[1;31m---------------------------------------------------------------------------\u001b[0m",
            "\u001b[1;31mModuleNotFoundError\u001b[0m                       Traceback (most recent call last)",
            "\u001b[1;32m~\\AppData\\Local\\Temp\\ipykernel_21952\\1346948343.py\u001b[0m in \u001b[0;36m<module>\u001b[1;34m\u001b[0m\n\u001b[0;32m      1\u001b[0m \u001b[1;32mfrom\u001b[0m \u001b[0mkeras\u001b[0m\u001b[1;33m.\u001b[0m\u001b[0mmodels\u001b[0m \u001b[1;32mimport\u001b[0m \u001b[0mSequential\u001b[0m\u001b[1;33m\u001b[0m\u001b[1;33m\u001b[0m\u001b[0m\n\u001b[0;32m      2\u001b[0m \u001b[1;32mfrom\u001b[0m \u001b[0mkeras\u001b[0m\u001b[1;33m.\u001b[0m\u001b[0mlayers\u001b[0m \u001b[1;32mimport\u001b[0m \u001b[0mDense\u001b[0m\u001b[1;33m\u001b[0m\u001b[1;33m\u001b[0m\u001b[0m\n\u001b[1;32m----> 3\u001b[1;33m \u001b[1;32mfrom\u001b[0m \u001b[0mkeras\u001b[0m\u001b[1;33m.\u001b[0m\u001b[0mwrappers\u001b[0m\u001b[1;33m.\u001b[0m\u001b[0mscikit_learn\u001b[0m \u001b[1;32mimport\u001b[0m \u001b[0mKerasClassifier\u001b[0m\u001b[1;33m\u001b[0m\u001b[1;33m\u001b[0m\u001b[0m\n\u001b[0m",
            "\u001b[1;31mModuleNotFoundError\u001b[0m: No module named 'keras.wrappers'"
          ]
        }
      ],
      "source": [
        "from keras.models import Sequential\n",
        "from keras.layers import Dense\n",
        "from keras.wrappers.scikit_learn import KerasClassifier"
      ]
    },
    {
      "cell_type": "code",
      "execution_count": null,
      "metadata": {
        "colab": {},
        "colab_type": "code",
        "id": "Xn44nPWXbsbS"
      },
      "outputs": [
        {
          "ename": "ModuleNotFoundError",
          "evalue": "No module named 'keras.wrappers'",
          "output_type": "error",
          "traceback": [
            "\u001b[1;31m---------------------------------------------------------------------------\u001b[0m",
            "\u001b[1;31mModuleNotFoundError\u001b[0m                       Traceback (most recent call last)",
            "\u001b[1;32m~\\AppData\\Local\\Temp\\ipykernel_2548\\845714291.py\u001b[0m in \u001b[0;36m<module>\u001b[1;34m\u001b[0m\n\u001b[1;32m----> 1\u001b[1;33m \u001b[1;32mfrom\u001b[0m \u001b[0mkeras\u001b[0m\u001b[1;33m.\u001b[0m\u001b[0mwrappers\u001b[0m\u001b[1;33m.\u001b[0m\u001b[0mscikit_learn\u001b[0m \u001b[1;32mimport\u001b[0m \u001b[0mKerasClassifier\u001b[0m\u001b[1;33m\u001b[0m\u001b[1;33m\u001b[0m\u001b[0m\n\u001b[0m",
            "\u001b[1;31mModuleNotFoundError\u001b[0m: No module named 'keras.wrappers'"
          ]
        }
      ],
      "source": [
        "from keras.wrappers.scikit_learn import KerasClassifier"
      ]
    },
    {
      "cell_type": "code",
      "execution_count": null,
      "metadata": {},
      "outputs": [],
      "source": [
        "from sklearn.model_selection import cross_val_score"
      ]
    },
    {
      "cell_type": "code",
      "execution_count": null,
      "metadata": {
        "colab": {},
        "colab_type": "code",
        "id": "VEv9LR5MbwJ_"
      },
      "outputs": [],
      "source": [
        "def build_classifier():\n",
        "  classifier = Sequential()\n",
        "  classifier.add(Dense(units = 6, kernel_initializer = \"uniform\", activation = \"relu\", input_dim = 11))\n",
        "  classifier.add(Dense(units = 6, kernel_initializer = \"uniform\", activation = \"relu\"))\n",
        "  classifier.add(Dense(units = 1, kernel_initializer = \"uniform\", activation = \"sigmoid\"))\n",
        "  classifier.compile(optimizer = \"adam\", loss = \"binary_crossentropy\", metrics = [\"accuracy\"])\n",
        "  return classifier"
      ]
    },
    {
      "cell_type": "code",
      "execution_count": null,
      "metadata": {
        "colab": {
          "base_uri": "https://localhost:8080/",
          "height": 51
        },
        "colab_type": "code",
        "id": "84ER1wwKbx-s",
        "outputId": "6c5a2563-275c-426c-f7e3-0c20708acd05"
      },
      "outputs": [
        {
          "ename": "NameError",
          "evalue": "name 'KerasClassifier' is not defined",
          "output_type": "error",
          "traceback": [
            "\u001b[1;31m---------------------------------------------------------------------------\u001b[0m",
            "\u001b[1;31mNameError\u001b[0m                                 Traceback (most recent call last)",
            "\u001b[1;32m~\\AppData\\Local\\Temp\\ipykernel_2548\\1157864180.py\u001b[0m in \u001b[0;36m<module>\u001b[1;34m\u001b[0m\n\u001b[1;32m----> 1\u001b[1;33m \u001b[0mclassifier\u001b[0m \u001b[1;33m=\u001b[0m \u001b[0mKerasClassifier\u001b[0m\u001b[1;33m(\u001b[0m\u001b[0mbuild_fn\u001b[0m \u001b[1;33m=\u001b[0m \u001b[0mbuild_classifier\u001b[0m\u001b[1;33m,\u001b[0m \u001b[0mbatch_size\u001b[0m \u001b[1;33m=\u001b[0m \u001b[1;36m10\u001b[0m\u001b[1;33m,\u001b[0m \u001b[0mnb_epoch\u001b[0m \u001b[1;33m=\u001b[0m \u001b[1;36m100\u001b[0m\u001b[1;33m)\u001b[0m\u001b[1;33m\u001b[0m\u001b[1;33m\u001b[0m\u001b[0m\n\u001b[0m\u001b[0;32m      2\u001b[0m \u001b[0maccuracies\u001b[0m \u001b[1;33m=\u001b[0m \u001b[0mcross_val_score\u001b[0m\u001b[1;33m(\u001b[0m\u001b[0mestimator\u001b[0m\u001b[1;33m=\u001b[0m\u001b[0mclassifier\u001b[0m\u001b[1;33m,\u001b[0m \u001b[0mX\u001b[0m \u001b[1;33m=\u001b[0m \u001b[0mX_train\u001b[0m\u001b[1;33m,\u001b[0m \u001b[0my\u001b[0m \u001b[1;33m=\u001b[0m \u001b[0my_train\u001b[0m\u001b[1;33m,\u001b[0m \u001b[0mcv\u001b[0m \u001b[1;33m=\u001b[0m \u001b[1;36m10\u001b[0m\u001b[1;33m,\u001b[0m \u001b[0mn_jobs\u001b[0m\u001b[1;33m=\u001b[0m\u001b[1;33m-\u001b[0m\u001b[1;36m1\u001b[0m\u001b[1;33m,\u001b[0m \u001b[0mverbose\u001b[0m \u001b[1;33m=\u001b[0m \u001b[1;36m1\u001b[0m\u001b[1;33m)\u001b[0m\u001b[1;33m\u001b[0m\u001b[1;33m\u001b[0m\u001b[0m\n",
            "\u001b[1;31mNameError\u001b[0m: name 'KerasClassifier' is not defined"
          ]
        }
      ],
      "source": [
        "classifier = KerasClassifier(build_fn = build_classifier, batch_size = 10, nb_epoch = 100)\n",
        "accuracies = cross_val_score(estimator=classifier, X = X_train, y = y_train, cv = 10, n_jobs=-1, verbose = 1)"
      ]
    },
    {
      "cell_type": "code",
      "execution_count": null,
      "metadata": {
        "colab": {},
        "colab_type": "code",
        "id": "kH5SWOLjbz1J"
      },
      "outputs": [
        {
          "ename": "NameError",
          "evalue": "name 'accuracies' is not defined",
          "output_type": "error",
          "traceback": [
            "\u001b[1;31m---------------------------------------------------------------------------\u001b[0m",
            "\u001b[1;31mNameError\u001b[0m                                 Traceback (most recent call last)",
            "\u001b[1;32m~\\AppData\\Local\\Temp\\ipykernel_2548\\2119647207.py\u001b[0m in \u001b[0;36m<module>\u001b[1;34m\u001b[0m\n\u001b[1;32m----> 1\u001b[1;33m \u001b[0mmean\u001b[0m \u001b[1;33m=\u001b[0m \u001b[0maccuracies\u001b[0m\u001b[1;33m.\u001b[0m\u001b[0mmean\u001b[0m\u001b[1;33m(\u001b[0m\u001b[1;33m)\u001b[0m\u001b[1;33m\u001b[0m\u001b[1;33m\u001b[0m\u001b[0m\n\u001b[0m\u001b[0;32m      2\u001b[0m \u001b[0mvariance\u001b[0m \u001b[1;33m=\u001b[0m \u001b[0maccuracies\u001b[0m\u001b[1;33m.\u001b[0m\u001b[0mstd\u001b[0m\u001b[1;33m(\u001b[0m\u001b[1;33m)\u001b[0m\u001b[1;33m\u001b[0m\u001b[1;33m\u001b[0m\u001b[0m\n",
            "\u001b[1;31mNameError\u001b[0m: name 'accuracies' is not defined"
          ]
        }
      ],
      "source": [
        "mean = accuracies.mean()\n",
        "variance = accuracies.std()"
      ]
    },
    {
      "cell_type": "markdown",
      "metadata": {
        "colab_type": "text",
        "id": "Mv-Hs66Tb3Mv"
      },
      "source": [
        "### Mejorar la RNA"
      ]
    },
    {
      "cell_type": "markdown",
      "metadata": {
        "colab_type": "text",
        "id": "d-TdOlIlb22x"
      },
      "source": [
        "#### Regularización de Dropout para evitar el *overfitting*\n"
      ]
    },
    {
      "cell_type": "markdown",
      "metadata": {
        "colab_type": "text",
        "id": "k0xNpbSSb7_D"
      },
      "source": [
        "### Ajustar la *RNA*\n"
      ]
    },
    {
      "cell_type": "code",
      "execution_count": null,
      "metadata": {
        "colab": {},
        "colab_type": "code",
        "id": "4XOkEVJ_eE93"
      },
      "outputs": [],
      "source": [
        "from sklearn.model_selection import GridSearchCV"
      ]
    },
    {
      "cell_type": "code",
      "execution_count": null,
      "metadata": {
        "colab": {},
        "colab_type": "code",
        "id": "lURNzjkSb1Ce"
      },
      "outputs": [],
      "source": [
        "def build_classifier(optimizer):\n",
        "  classifier = Sequential()\n",
        "  classifier.add(Dense(units = 6, kernel_initializer = \"uniform\",  activation = \"relu\", input_dim = 11))\n",
        "  classifier.add(Dense(units = 6, kernel_initializer = \"uniform\",  activation = \"relu\"))\n",
        "  classifier.add(Dense(units = 1, kernel_initializer = \"uniform\",  activation = \"sigmoid\"))\n",
        "  classifier.compile(optimizer = optimizer, loss = \"binary_crossentropy\", metrics = [\"accuracy\"])\n",
        "  return classifier\n"
      ]
    },
    {
      "cell_type": "code",
      "execution_count": null,
      "metadata": {
        "colab": {},
        "colab_type": "code",
        "id": "1mRpi1Kcb96V"
      },
      "outputs": [
        {
          "ename": "NameError",
          "evalue": "name 'KerasClassifier' is not defined",
          "output_type": "error",
          "traceback": [
            "\u001b[1;31m---------------------------------------------------------------------------\u001b[0m",
            "\u001b[1;31mNameError\u001b[0m                                 Traceback (most recent call last)",
            "\u001b[1;32m~\\AppData\\Local\\Temp\\ipykernel_2548\\3867060546.py\u001b[0m in \u001b[0;36m<module>\u001b[1;34m\u001b[0m\n\u001b[1;32m----> 1\u001b[1;33m \u001b[0mclassifier\u001b[0m \u001b[1;33m=\u001b[0m \u001b[0mKerasClassifier\u001b[0m\u001b[1;33m(\u001b[0m\u001b[0mbuild_fn\u001b[0m \u001b[1;33m=\u001b[0m \u001b[0mbuild_classifier\u001b[0m\u001b[1;33m)\u001b[0m\u001b[1;33m\u001b[0m\u001b[1;33m\u001b[0m\u001b[0m\n\u001b[0m",
            "\u001b[1;31mNameError\u001b[0m: name 'KerasClassifier' is not defined"
          ]
        }
      ],
      "source": [
        "classifier = KerasClassifier(build_fn = build_classifier)"
      ]
    },
    {
      "cell_type": "code",
      "execution_count": null,
      "metadata": {
        "colab": {},
        "colab_type": "code",
        "id": "KkRJLSzAb_6R"
      },
      "outputs": [],
      "source": [
        "parameters = {\n",
        "    'batch_size' : [25,32],\n",
        "    'nb_epoch' : [100, 500], \n",
        "    'optimizer' : ['adam', 'rmsprop']\n",
        "}"
      ]
    },
    {
      "cell_type": "code",
      "execution_count": null,
      "metadata": {
        "colab": {
          "base_uri": "https://localhost:8080/",
          "height": 922
        },
        "colab_type": "code",
        "id": "_Ejn37PBcB-7",
        "outputId": "608bcae3-2311-4466-b4f1-4f4998a075db"
      },
      "outputs": [
        {
          "ename": "TypeError",
          "evalue": "Cannot clone object '<keras.src.engine.sequential.Sequential object at 0x0000022F48FC2F70>' (type <class 'keras.src.engine.sequential.Sequential'>): it does not seem to be a scikit-learn estimator as it does not implement a 'get_params' method.",
          "output_type": "error",
          "traceback": [
            "\u001b[1;31m---------------------------------------------------------------------------\u001b[0m",
            "\u001b[1;31mTypeError\u001b[0m                                 Traceback (most recent call last)",
            "\u001b[1;32m~\\AppData\\Local\\Temp\\ipykernel_2548\\3461464613.py\u001b[0m in \u001b[0;36m<module>\u001b[1;34m\u001b[0m\n\u001b[0;32m      3\u001b[0m                            \u001b[0mscoring\u001b[0m \u001b[1;33m=\u001b[0m \u001b[1;34m'accuracy'\u001b[0m\u001b[1;33m,\u001b[0m\u001b[1;33m\u001b[0m\u001b[1;33m\u001b[0m\u001b[0m\n\u001b[0;32m      4\u001b[0m                            cv = 10)\n\u001b[1;32m----> 5\u001b[1;33m \u001b[0mgrid_search\u001b[0m \u001b[1;33m=\u001b[0m \u001b[0mgrid_search\u001b[0m\u001b[1;33m.\u001b[0m\u001b[0mfit\u001b[0m\u001b[1;33m(\u001b[0m\u001b[0mX_train\u001b[0m\u001b[1;33m,\u001b[0m \u001b[0my_train\u001b[0m\u001b[1;33m)\u001b[0m\u001b[1;33m\u001b[0m\u001b[1;33m\u001b[0m\u001b[0m\n\u001b[0m\u001b[0;32m      6\u001b[0m \u001b[1;33m\u001b[0m\u001b[0m\n\u001b[0;32m      7\u001b[0m \u001b[0mbest_parameters\u001b[0m \u001b[1;33m=\u001b[0m \u001b[0mgrid_search\u001b[0m\u001b[1;33m.\u001b[0m\u001b[0mbest_params_\u001b[0m\u001b[1;33m\u001b[0m\u001b[1;33m\u001b[0m\u001b[0m\n",
            "\u001b[1;32mc:\\ProgramData\\Anaconda3\\lib\\site-packages\\sklearn\\model_selection\\_search.py\u001b[0m in \u001b[0;36mfit\u001b[1;34m(self, X, y, groups, **fit_params)\u001b[0m\n\u001b[0;32m    803\u001b[0m         \u001b[0mn_splits\u001b[0m \u001b[1;33m=\u001b[0m \u001b[0mcv_orig\u001b[0m\u001b[1;33m.\u001b[0m\u001b[0mget_n_splits\u001b[0m\u001b[1;33m(\u001b[0m\u001b[0mX\u001b[0m\u001b[1;33m,\u001b[0m \u001b[0my\u001b[0m\u001b[1;33m,\u001b[0m \u001b[0mgroups\u001b[0m\u001b[1;33m)\u001b[0m\u001b[1;33m\u001b[0m\u001b[1;33m\u001b[0m\u001b[0m\n\u001b[0;32m    804\u001b[0m \u001b[1;33m\u001b[0m\u001b[0m\n\u001b[1;32m--> 805\u001b[1;33m         \u001b[0mbase_estimator\u001b[0m \u001b[1;33m=\u001b[0m \u001b[0mclone\u001b[0m\u001b[1;33m(\u001b[0m\u001b[0mself\u001b[0m\u001b[1;33m.\u001b[0m\u001b[0mestimator\u001b[0m\u001b[1;33m)\u001b[0m\u001b[1;33m\u001b[0m\u001b[1;33m\u001b[0m\u001b[0m\n\u001b[0m\u001b[0;32m    806\u001b[0m \u001b[1;33m\u001b[0m\u001b[0m\n\u001b[0;32m    807\u001b[0m         \u001b[0mparallel\u001b[0m \u001b[1;33m=\u001b[0m \u001b[0mParallel\u001b[0m\u001b[1;33m(\u001b[0m\u001b[0mn_jobs\u001b[0m\u001b[1;33m=\u001b[0m\u001b[0mself\u001b[0m\u001b[1;33m.\u001b[0m\u001b[0mn_jobs\u001b[0m\u001b[1;33m,\u001b[0m \u001b[0mpre_dispatch\u001b[0m\u001b[1;33m=\u001b[0m\u001b[0mself\u001b[0m\u001b[1;33m.\u001b[0m\u001b[0mpre_dispatch\u001b[0m\u001b[1;33m)\u001b[0m\u001b[1;33m\u001b[0m\u001b[1;33m\u001b[0m\u001b[0m\n",
            "\u001b[1;32mc:\\ProgramData\\Anaconda3\\lib\\site-packages\\sklearn\\base.py\u001b[0m in \u001b[0;36mclone\u001b[1;34m(estimator, safe)\u001b[0m\n\u001b[0;32m     74\u001b[0m                 )\n\u001b[0;32m     75\u001b[0m             \u001b[1;32melse\u001b[0m\u001b[1;33m:\u001b[0m\u001b[1;33m\u001b[0m\u001b[1;33m\u001b[0m\u001b[0m\n\u001b[1;32m---> 76\u001b[1;33m                 raise TypeError(\n\u001b[0m\u001b[0;32m     77\u001b[0m                     \u001b[1;34m\"Cannot clone object '%s' (type %s): \"\u001b[0m\u001b[1;33m\u001b[0m\u001b[1;33m\u001b[0m\u001b[0m\n\u001b[0;32m     78\u001b[0m                     \u001b[1;34m\"it does not seem to be a scikit-learn \"\u001b[0m\u001b[1;33m\u001b[0m\u001b[1;33m\u001b[0m\u001b[0m\n",
            "\u001b[1;31mTypeError\u001b[0m: Cannot clone object '<keras.src.engine.sequential.Sequential object at 0x0000022F48FC2F70>' (type <class 'keras.src.engine.sequential.Sequential'>): it does not seem to be a scikit-learn estimator as it does not implement a 'get_params' method."
          ]
        }
      ],
      "source": [
        "grid_search = GridSearchCV(estimator = classifier, \n",
        "                           param_grid = parameters, \n",
        "                           scoring = 'accuracy', \n",
        "                           cv = 10)\n",
        "grid_search = grid_search.fit(X_train, y_train)\n",
        "\n",
        "best_parameters = grid_search.best_params_\n",
        "best_accuracy = grid_search.best_score_"
      ]
    }
  ],
  "metadata": {
    "accelerator": "GPU",
    "colab": {
      "collapsed_sections": [],
      "name": "ann.ipynb",
      "provenance": [],
      "toc_visible": true
    },
    "kernelspec": {
      "display_name": "Python 3",
      "language": "python",
      "name": "python3"
    },
    "language_info": {
      "codemirror_mode": {
        "name": "ipython",
        "version": 3
      },
      "file_extension": ".py",
      "mimetype": "text/x-python",
      "name": "python",
      "nbconvert_exporter": "python",
      "pygments_lexer": "ipython3",
      "version": "3.9.13"
    }
  },
  "nbformat": 4,
  "nbformat_minor": 0
}
